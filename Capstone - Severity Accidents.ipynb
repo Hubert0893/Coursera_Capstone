{
 "cells": [
  {
   "cell_type": "markdown",
   "metadata": {},
   "source": [
    "# Capstone Project - The Severity of Collisions  (Week 2)\n",
    "### Applied Data Science Capstone by IBM/Coursera"
   ]
  },
  {
   "cell_type": "markdown",
   "metadata": {},
   "source": [
    "## Table of contents\n",
    "* [Introduction: Business Problem](#introduction)\n",
    "* [Data](#data)\n",
    "* [Methodology](#methodology)\n",
    "* [Analysis](#analysis)\n",
    "* [Results and Discussion](#results)\n",
    "* [Conclusion](#conclusion)"
   ]
  },
  {
   "cell_type": "markdown",
   "metadata": {},
   "source": [
    "## Introduction: Business Problem <a name=\"introduction\"></a>"
   ]
  },
  {
   "cell_type": "markdown",
   "metadata": {},
   "source": [
    "Say you are driving to another city for work or to visit some friends. It is rainy and windy, and on the way, you come across a terrible traffic jam on the other side of the highway. \n",
    "Long lines of cars barely moving. As you keep driving, police car start appearing from afar shutting down the highway. \n",
    "Oh, it is an accident and there's a helicopter transporting the ones involved in the crash to the nearest hospital. They must be in critical condition for all of this to be happening.\n",
    "Now, wouldn't it be great if there is **something in place** that could warn you, given the **weather** and the **road conditions** about the possibility of you getting into a car accident and how severe it would be, so that you would drive more carefully or even change your travel if you are able to.\n",
    "\n",
    "Data that might contribute to determining Collisions and his severity might include **Collision Address type,Location, Collision type, Road Condition, wheather and number of objects or people involved in the collision.**\n",
    "This project aims to predict severity type of any accidents.\n",
    "\n",
    "Clearly, those who **work long distances** or **frequent certain places** are interested in finding routes where they are not delayed or even postponed due to sudden accidents.\n",
    "In addition, **the state** may also be interested to be on the lookout for any collisions or accidents at certain locations."
   ]
  },
  {
   "cell_type": "markdown",
   "metadata": {},
   "source": [
    "## Data <a name=\"data\"></a>"
   ]
  },
  {
   "cell_type": "markdown",
   "metadata": {},
   "source": [
    "Let's use our shared data for Seattle city as an example of how to deal with the accidents data. \n",
    "The label (target) for the data set is SEVERITY, which describes the fatality of an accident. \n",
    "\n",
    "You will notice that the shared data has unbalanced labels (approximately 70% Class 1 and 30% Class 2).\n",
    "So, balance data is possible with:\n",
    "\n",
    "* Random Over-Sampling\n",
    "* Random Under-Sampling\n",
    "\n",
    "But, That balance is exactly before Modeling. \n",
    "\n",
    "Exploratory data will be with original data. For instance, coordenates X and Y will use like longitude and latitude corresponding. So to describe our data on a map, use exactly **the mean** about this metrics."
   ]
  },
  {
   "cell_type": "markdown",
   "metadata": {},
   "source": [
    "## Load Data From CSV File"
   ]
  },
  {
   "cell_type": "code",
   "execution_count": 1,
   "metadata": {},
   "outputs": [
    {
     "data": {
      "text/html": [
       "<div>\n",
       "<style scoped>\n",
       "    .dataframe tbody tr th:only-of-type {\n",
       "        vertical-align: middle;\n",
       "    }\n",
       "\n",
       "    .dataframe tbody tr th {\n",
       "        vertical-align: top;\n",
       "    }\n",
       "\n",
       "    .dataframe thead th {\n",
       "        text-align: right;\n",
       "    }\n",
       "</style>\n",
       "<table border=\"1\" class=\"dataframe\">\n",
       "  <thead>\n",
       "    <tr style=\"text-align: right;\">\n",
       "      <th></th>\n",
       "      <th>SEVERITYCODE</th>\n",
       "      <th>X</th>\n",
       "      <th>Y</th>\n",
       "      <th>OBJECTID</th>\n",
       "      <th>INCKEY</th>\n",
       "      <th>COLDETKEY</th>\n",
       "      <th>REPORTNO</th>\n",
       "      <th>STATUS</th>\n",
       "      <th>ADDRTYPE</th>\n",
       "      <th>INTKEY</th>\n",
       "      <th>...</th>\n",
       "      <th>ROADCOND</th>\n",
       "      <th>LIGHTCOND</th>\n",
       "      <th>PEDROWNOTGRNT</th>\n",
       "      <th>SDOTCOLNUM</th>\n",
       "      <th>SPEEDING</th>\n",
       "      <th>ST_COLCODE</th>\n",
       "      <th>ST_COLDESC</th>\n",
       "      <th>SEGLANEKEY</th>\n",
       "      <th>CROSSWALKKEY</th>\n",
       "      <th>HITPARKEDCAR</th>\n",
       "    </tr>\n",
       "  </thead>\n",
       "  <tbody>\n",
       "    <tr>\n",
       "      <th>0</th>\n",
       "      <td>2</td>\n",
       "      <td>-122.323148</td>\n",
       "      <td>47.703140</td>\n",
       "      <td>1</td>\n",
       "      <td>1307</td>\n",
       "      <td>1307</td>\n",
       "      <td>3502005</td>\n",
       "      <td>Matched</td>\n",
       "      <td>Intersection</td>\n",
       "      <td>37475.0</td>\n",
       "      <td>...</td>\n",
       "      <td>Wet</td>\n",
       "      <td>Daylight</td>\n",
       "      <td>NaN</td>\n",
       "      <td>NaN</td>\n",
       "      <td>NaN</td>\n",
       "      <td>10</td>\n",
       "      <td>Entering at angle</td>\n",
       "      <td>0</td>\n",
       "      <td>0</td>\n",
       "      <td>N</td>\n",
       "    </tr>\n",
       "    <tr>\n",
       "      <th>1</th>\n",
       "      <td>1</td>\n",
       "      <td>-122.347294</td>\n",
       "      <td>47.647172</td>\n",
       "      <td>2</td>\n",
       "      <td>52200</td>\n",
       "      <td>52200</td>\n",
       "      <td>2607959</td>\n",
       "      <td>Matched</td>\n",
       "      <td>Block</td>\n",
       "      <td>NaN</td>\n",
       "      <td>...</td>\n",
       "      <td>Wet</td>\n",
       "      <td>Dark - Street Lights On</td>\n",
       "      <td>NaN</td>\n",
       "      <td>6354039.0</td>\n",
       "      <td>NaN</td>\n",
       "      <td>11</td>\n",
       "      <td>From same direction - both going straight - bo...</td>\n",
       "      <td>0</td>\n",
       "      <td>0</td>\n",
       "      <td>N</td>\n",
       "    </tr>\n",
       "    <tr>\n",
       "      <th>2</th>\n",
       "      <td>1</td>\n",
       "      <td>-122.334540</td>\n",
       "      <td>47.607871</td>\n",
       "      <td>3</td>\n",
       "      <td>26700</td>\n",
       "      <td>26700</td>\n",
       "      <td>1482393</td>\n",
       "      <td>Matched</td>\n",
       "      <td>Block</td>\n",
       "      <td>NaN</td>\n",
       "      <td>...</td>\n",
       "      <td>Dry</td>\n",
       "      <td>Daylight</td>\n",
       "      <td>NaN</td>\n",
       "      <td>4323031.0</td>\n",
       "      <td>NaN</td>\n",
       "      <td>32</td>\n",
       "      <td>One parked--one moving</td>\n",
       "      <td>0</td>\n",
       "      <td>0</td>\n",
       "      <td>N</td>\n",
       "    </tr>\n",
       "    <tr>\n",
       "      <th>3</th>\n",
       "      <td>1</td>\n",
       "      <td>-122.334803</td>\n",
       "      <td>47.604803</td>\n",
       "      <td>4</td>\n",
       "      <td>1144</td>\n",
       "      <td>1144</td>\n",
       "      <td>3503937</td>\n",
       "      <td>Matched</td>\n",
       "      <td>Block</td>\n",
       "      <td>NaN</td>\n",
       "      <td>...</td>\n",
       "      <td>Dry</td>\n",
       "      <td>Daylight</td>\n",
       "      <td>NaN</td>\n",
       "      <td>NaN</td>\n",
       "      <td>NaN</td>\n",
       "      <td>23</td>\n",
       "      <td>From same direction - all others</td>\n",
       "      <td>0</td>\n",
       "      <td>0</td>\n",
       "      <td>N</td>\n",
       "    </tr>\n",
       "    <tr>\n",
       "      <th>4</th>\n",
       "      <td>2</td>\n",
       "      <td>-122.306426</td>\n",
       "      <td>47.545739</td>\n",
       "      <td>5</td>\n",
       "      <td>17700</td>\n",
       "      <td>17700</td>\n",
       "      <td>1807429</td>\n",
       "      <td>Matched</td>\n",
       "      <td>Intersection</td>\n",
       "      <td>34387.0</td>\n",
       "      <td>...</td>\n",
       "      <td>Wet</td>\n",
       "      <td>Daylight</td>\n",
       "      <td>NaN</td>\n",
       "      <td>4028032.0</td>\n",
       "      <td>NaN</td>\n",
       "      <td>10</td>\n",
       "      <td>Entering at angle</td>\n",
       "      <td>0</td>\n",
       "      <td>0</td>\n",
       "      <td>N</td>\n",
       "    </tr>\n",
       "  </tbody>\n",
       "</table>\n",
       "<p>5 rows × 38 columns</p>\n",
       "</div>"
      ],
      "text/plain": [
       "   SEVERITYCODE           X          Y  OBJECTID  INCKEY  COLDETKEY REPORTNO  \\\n",
       "0             2 -122.323148  47.703140         1    1307       1307  3502005   \n",
       "1             1 -122.347294  47.647172         2   52200      52200  2607959   \n",
       "2             1 -122.334540  47.607871         3   26700      26700  1482393   \n",
       "3             1 -122.334803  47.604803         4    1144       1144  3503937   \n",
       "4             2 -122.306426  47.545739         5   17700      17700  1807429   \n",
       "\n",
       "    STATUS      ADDRTYPE   INTKEY  ... ROADCOND                LIGHTCOND  \\\n",
       "0  Matched  Intersection  37475.0  ...      Wet                 Daylight   \n",
       "1  Matched         Block      NaN  ...      Wet  Dark - Street Lights On   \n",
       "2  Matched         Block      NaN  ...      Dry                 Daylight   \n",
       "3  Matched         Block      NaN  ...      Dry                 Daylight   \n",
       "4  Matched  Intersection  34387.0  ...      Wet                 Daylight   \n",
       "\n",
       "  PEDROWNOTGRNT  SDOTCOLNUM SPEEDING ST_COLCODE  \\\n",
       "0           NaN         NaN      NaN         10   \n",
       "1           NaN   6354039.0      NaN         11   \n",
       "2           NaN   4323031.0      NaN         32   \n",
       "3           NaN         NaN      NaN         23   \n",
       "4           NaN   4028032.0      NaN         10   \n",
       "\n",
       "                                          ST_COLDESC  SEGLANEKEY  \\\n",
       "0                                  Entering at angle           0   \n",
       "1  From same direction - both going straight - bo...           0   \n",
       "2                             One parked--one moving           0   \n",
       "3                   From same direction - all others           0   \n",
       "4                                  Entering at angle           0   \n",
       "\n",
       "   CROSSWALKKEY  HITPARKEDCAR  \n",
       "0             0             N  \n",
       "1             0             N  \n",
       "2             0             N  \n",
       "3             0             N  \n",
       "4             0             N  \n",
       "\n",
       "[5 rows x 38 columns]"
      ]
     },
     "execution_count": 1,
     "metadata": {},
     "output_type": "execute_result"
    }
   ],
   "source": [
    "import pandas as pd\n",
    "df = pd.read_csv('Data-Collisions.csv', low_memory=False)\n",
    "df.head()"
   ]
  },
  {
   "cell_type": "markdown",
   "metadata": {},
   "source": [
    "### Convert to date time object"
   ]
  },
  {
   "cell_type": "code",
   "execution_count": 2,
   "metadata": {},
   "outputs": [
    {
     "data": {
      "text/plain": [
       "(array(['2013-03-27T00:00:00.000000000', '2006-12-20T00:00:00.000000000',\n",
       "        '2004-11-18T00:00:00.000000000', ...,\n",
       "        '2019-01-19T00:00:00.000000000', '2019-01-15T00:00:00.000000000',\n",
       "        '2018-11-30T00:00:00.000000000'], dtype='datetime64[ns]'),\n",
       " array(['2013-03-27T14:54:00.000000000', '2006-12-20T18:55:00.000000000',\n",
       "        '2004-11-18T10:20:00.000000000', ...,\n",
       "        '2019-01-19T09:25:00.000000000', '2019-01-15T16:48:00.000000000',\n",
       "        '2018-11-30T15:45:00.000000000'], dtype='datetime64[ns]'))"
      ]
     },
     "execution_count": 2,
     "metadata": {},
     "output_type": "execute_result"
    }
   ],
   "source": [
    "df['INCDATE'] = pd.to_datetime(df['INCDATE'])\n",
    "df['INCDTTM'] = pd.to_datetime(df['INCDTTM'])\n",
    "df['INCDATE'].values, df['INCDTTM'].values"
   ]
  },
  {
   "cell_type": "markdown",
   "metadata": {},
   "source": [
    "### To display a map, we need to clean missing values over X and Y"
   ]
  },
  {
   "cell_type": "code",
   "execution_count": 3,
   "metadata": {
    "scrolled": true
   },
   "outputs": [
    {
     "data": {
      "text/html": [
       "<div style=\"width:100%;\"><div style=\"position:relative;width:100%;height:0;padding-bottom:60%;\"><span style=\"color:#565656\">Make this Notebook Trusted to load map: File -> Trust Notebook</span><iframe src=\"about:blank\" style=\"position:absolute;width:100%;height:100%;left:0;top:0;border:none !important;\" data-html=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 onload=\"this.contentDocument.open();this.contentDocument.write(atob(this.getAttribute('data-html')));this.contentDocument.close();\" allowfullscreen webkitallowfullscreen mozallowfullscreen></iframe></div></div>"
      ],
      "text/plain": [
       "<folium.folium.Map at 0xaca5e09668>"
      ]
     },
     "execution_count": 3,
     "metadata": {},
     "output_type": "execute_result"
    }
   ],
   "source": [
    "import folium\n",
    "\n",
    "df.X.dropna(inplace=True)\n",
    "df.Y.dropna(inplace=True)\n",
    "# create map and display it\n",
    "sanfran_map = folium.Map(location=[df.Y.mean(), df.X.mean()], zoom_start=12)\n",
    "\n",
    "# display the map of Seattle\n",
    "sanfran_map"
   ]
  },
  {
   "cell_type": "markdown",
   "metadata": {},
   "source": [
    "## Data visualization and pre-processing"
   ]
  },
  {
   "cell_type": "code",
   "execution_count": 4,
   "metadata": {},
   "outputs": [
    {
     "data": {
      "text/plain": [
       "Clear                       111135\n",
       "Raining                      33145\n",
       "Overcast                     27714\n",
       "Unknown                      15091\n",
       "Snowing                        907\n",
       "Other                          832\n",
       "Fog/Smog/Smoke                 569\n",
       "Sleet/Hail/Freezing Rain       113\n",
       "Blowing Sand/Dirt               56\n",
       "Severe Crosswind                25\n",
       "Partly Cloudy                    5\n",
       "Name: WEATHER, dtype: int64"
      ]
     },
     "execution_count": 4,
     "metadata": {},
     "output_type": "execute_result"
    }
   ],
   "source": [
    "df['WEATHER'].value_counts()"
   ]
  },
  {
   "cell_type": "code",
   "execution_count": 5,
   "metadata": {},
   "outputs": [],
   "source": [
    "df['dayofweek'] = df['INCDATE'].dt.dayofweek"
   ]
  },
  {
   "cell_type": "markdown",
   "metadata": {},
   "source": [
    "To describe in the time only use the first 4 categories of Wheater"
   ]
  },
  {
   "cell_type": "code",
   "execution_count": 6,
   "metadata": {},
   "outputs": [
    {
     "data": {
      "image/png": "[encoded data removed]",
      "text/plain": [
       "<Figure size 432x432 with 4 Axes>"
      ]
     },
     "metadata": {
      "needs_background": "light"
     },
     "output_type": "display_data"
    }
   ],
   "source": [
    "import seaborn as sns\n",
    "import matplotlib.pyplot as plt\n",
    "import numpy as np\n",
    "\n",
    "df_weather_especific = df[df.WEATHER.isin(['Clear', 'Raining','Overcast','Unknown'])]\n",
    "\n",
    "bins = np.linspace(df.dayofweek.min(), df.dayofweek.max(), 10)\n",
    "g = sns.FacetGrid(df_weather_especific, col=\"WEATHER\", hue=\"SEVERITYCODE\", palette=\"Set1\", col_wrap=2)\n",
    "g.map(plt.hist, 'dayofweek', bins=bins, ec=\"k\")\n",
    "g.axes[-1].legend()\n",
    "plt.show()"
   ]
  },
  {
   "cell_type": "markdown",
   "metadata": {},
   "source": [
    "We see that severity of collision is concentrate over several days of the week. Sort values we can see that separation."
   ]
  },
  {
   "cell_type": "code",
   "execution_count": 7,
   "metadata": {
    "scrolled": true
   },
   "outputs": [
    {
     "data": {
      "text/plain": [
       "6    21955\n",
       "0    26338\n",
       "5    27389\n",
       "1    28556\n",
       "2    28778\n",
       "3    29324\n",
       "4    32333\n",
       "Name: dayofweek, dtype: int64"
      ]
     },
     "execution_count": 7,
     "metadata": {},
     "output_type": "execute_result"
    }
   ],
   "source": [
    "df['dayofweek'].value_counts().sort_values()"
   ]
  },
  {
   "cell_type": "code",
   "execution_count": 8,
   "metadata": {},
   "outputs": [],
   "source": [
    "df['hourofday'] = df['INCDTTM'].dt.hour"
   ]
  },
  {
   "cell_type": "markdown",
   "metadata": {},
   "source": [
    "But this concentrate is not discriminate. So we use dayofweek in the same condition.\n",
    "Now see per hour."
   ]
  },
  {
   "cell_type": "code",
   "execution_count": 9,
   "metadata": {},
   "outputs": [
    {
     "data": {
      "image/png": "[encoded data removed]",
      "text/plain": [
       "<Figure size 432x432 with 4 Axes>"
      ]
     },
     "metadata": {
      "needs_background": "light"
     },
     "output_type": "display_data"
    }
   ],
   "source": [
    "import seaborn as sns\n",
    "import matplotlib.pyplot as plt\n",
    "\n",
    "df_weather_especific = df[df.WEATHER.isin(['Clear', 'Raining','Overcast','Unknown'])]\n",
    "\n",
    "bins = np.linspace(df.hourofday.min(), df.hourofday.max(), 24)\n",
    "g = sns.FacetGrid(df_weather_especific, col=\"WEATHER\", hue=\"SEVERITYCODE\", palette=\"Set1\", col_wrap=2)\n",
    "g.map(plt.hist, 'hourofday', bins=bins, ec=\"k\")\n",
    "g.axes[-1].legend()\n",
    "plt.show()"
   ]
  },
  {
   "cell_type": "markdown",
   "metadata": {},
   "source": [
    "How day of week is not relevant vs Severity collision but analyze hour instead day we can see almost three schedule spaces. But, sort values per hour we can separate this spaces."
   ]
  },
  {
   "cell_type": "code",
   "execution_count": 10,
   "metadata": {},
   "outputs": [
    {
     "data": {
      "text/plain": [
       "4      1222\n",
       "3      1665\n",
       "5      1667\n",
       "6      3199\n",
       "1      3408\n",
       "2      3606\n",
       "23     4611\n",
       "22     5468\n",
       "21     5571\n",
       "20     6236\n",
       "7      6543\n",
       "19     7256\n",
       "10     7465\n",
       "9      8052\n",
       "11     8209\n",
       "8      8570\n",
       "18     9743\n",
       "13    10219\n",
       "12    10384\n",
       "14    10615\n",
       "15    11514\n",
       "16    12122\n",
       "17    12947\n",
       "0     34381\n",
       "Name: hourofday, dtype: int64"
      ]
     },
     "execution_count": 10,
     "metadata": {},
     "output_type": "execute_result"
    }
   ],
   "source": [
    "df['hourofday'].value_counts().sort_values()"
   ]
  },
  {
   "cell_type": "markdown",
   "metadata": {},
   "source": [
    "So, the schedule spaces are:\n",
    "* 1 Morning - between 7 and 12\n",
    "* 2 Afternoon - between 12 and 20\n",
    "* 3 Night - between 20 and 0 hours\n",
    "* 4 Midnight - between 0 and 1 hours\n",
    "* 5 Early morning - between 1 and 7 hours"
   ]
  },
  {
   "cell_type": "code",
   "execution_count": 11,
   "metadata": {},
   "outputs": [
    {
     "data": {
      "text/plain": [
       "{1, 2, 3, 4, 5}"
      ]
     },
     "execution_count": 11,
     "metadata": {},
     "output_type": "execute_result"
    }
   ],
   "source": [
    "df['HourState'] = df['hourofday'].apply(lambda x: 1 if (x>=7) and (x<12) else (2 if (x>=12) and (x<20) else ( 3 if (x>=20) and (x<24) else( 4 if (x>=0) and (x<1) else 5))))\n",
    "set(df.HourState)"
   ]
  },
  {
   "cell_type": "code",
   "execution_count": 12,
   "metadata": {},
   "outputs": [
    {
     "data": {
      "text/plain": [
       "WEATHER   SEVERITYCODE\n",
       "Clear     1               0.677509\n",
       "          2               0.322491\n",
       "Overcast  1               0.684456\n",
       "          2               0.315544\n",
       "Raining   1               0.662815\n",
       "          2               0.337185\n",
       "Unknown   1               0.945928\n",
       "          2               0.054072\n",
       "Name: SEVERITYCODE, dtype: float64"
      ]
     },
     "execution_count": 12,
     "metadata": {},
     "output_type": "execute_result"
    }
   ],
   "source": [
    "df_weather_especific.groupby(['WEATHER'])['SEVERITYCODE'].value_counts(normalize=True)"
   ]
  },
  {
   "cell_type": "markdown",
   "metadata": {},
   "source": [
    "**94%** of wheater **Unknown** is prop damage and **33%** is injury when there is **Raining**."
   ]
  },
  {
   "cell_type": "code",
   "execution_count": 13,
   "metadata": {},
   "outputs": [
    {
     "data": {
      "text/plain": [
       "Dry               124510\n",
       "Wet                47474\n",
       "Unknown            15078\n",
       "Ice                 1209\n",
       "Snow/Slush          1004\n",
       "Other                132\n",
       "Standing Water       115\n",
       "Sand/Mud/Dirt         75\n",
       "Oil                   64\n",
       "Name: ROADCOND, dtype: int64"
      ]
     },
     "execution_count": 13,
     "metadata": {},
     "output_type": "execute_result"
    }
   ],
   "source": [
    "df['ROADCOND'].value_counts()"
   ]
  },
  {
   "cell_type": "code",
   "execution_count": 14,
   "metadata": {},
   "outputs": [
    {
     "data": {
      "image/png": "[encoded data removed]",
      "text/plain": [
       "<Figure size 432x432 with 3 Axes>"
      ]
     },
     "metadata": {
      "needs_background": "light"
     },
     "output_type": "display_data"
    }
   ],
   "source": [
    "import seaborn as sns\n",
    "import matplotlib.pyplot as plt\n",
    "\n",
    "df_roadcond_especific = df[df.ROADCOND.isin(['Dry', 'Wet','Unknown'])]\n",
    "\n",
    "bins = np.linspace(df.dayofweek.min(), df.dayofweek.max(), 10)\n",
    "g = sns.FacetGrid(df_roadcond_especific, col=\"ROADCOND\", hue=\"SEVERITYCODE\", palette=\"Set1\", col_wrap=2)\n",
    "g.map(plt.hist, 'dayofweek', bins=bins, ec=\"k\")\n",
    "g.axes[-1].legend()\n",
    "plt.show()"
   ]
  },
  {
   "cell_type": "markdown",
   "metadata": {},
   "source": [
    "## Missing Values"
   ]
  },
  {
   "cell_type": "code",
   "execution_count": 15,
   "metadata": {},
   "outputs": [
    {
     "data": {
      "text/html": [
       "<div>\n",
       "<style scoped>\n",
       "    .dataframe tbody tr th:only-of-type {\n",
       "        vertical-align: middle;\n",
       "    }\n",
       "\n",
       "    .dataframe tbody tr th {\n",
       "        vertical-align: top;\n",
       "    }\n",
       "\n",
       "    .dataframe thead th {\n",
       "        text-align: right;\n",
       "    }\n",
       "</style>\n",
       "<table border=\"1\" class=\"dataframe\">\n",
       "  <thead>\n",
       "    <tr style=\"text-align: right;\">\n",
       "      <th></th>\n",
       "      <th>SEVERITYCODE</th>\n",
       "      <th>X</th>\n",
       "      <th>Y</th>\n",
       "      <th>OBJECTID</th>\n",
       "      <th>INCKEY</th>\n",
       "      <th>COLDETKEY</th>\n",
       "      <th>INTKEY</th>\n",
       "      <th>SEVERITYCODE.1</th>\n",
       "      <th>PERSONCOUNT</th>\n",
       "      <th>PEDCOUNT</th>\n",
       "      <th>PEDCYLCOUNT</th>\n",
       "      <th>VEHCOUNT</th>\n",
       "      <th>SDOT_COLCODE</th>\n",
       "      <th>SDOTCOLNUM</th>\n",
       "      <th>SEGLANEKEY</th>\n",
       "      <th>CROSSWALKKEY</th>\n",
       "      <th>dayofweek</th>\n",
       "      <th>hourofday</th>\n",
       "      <th>HourState</th>\n",
       "    </tr>\n",
       "  </thead>\n",
       "  <tbody>\n",
       "    <tr>\n",
       "      <th>count</th>\n",
       "      <td>194673.000000</td>\n",
       "      <td>189339.000000</td>\n",
       "      <td>189339.000000</td>\n",
       "      <td>194673.000000</td>\n",
       "      <td>194673.000000</td>\n",
       "      <td>194673.000000</td>\n",
       "      <td>65070.000000</td>\n",
       "      <td>194673.000000</td>\n",
       "      <td>194673.000000</td>\n",
       "      <td>194673.000000</td>\n",
       "      <td>194673.000000</td>\n",
       "      <td>194673.000000</td>\n",
       "      <td>194673.000000</td>\n",
       "      <td>1.149360e+05</td>\n",
       "      <td>194673.000000</td>\n",
       "      <td>1.946730e+05</td>\n",
       "      <td>194673.000000</td>\n",
       "      <td>194673.000000</td>\n",
       "      <td>194673.000000</td>\n",
       "    </tr>\n",
       "    <tr>\n",
       "      <th>mean</th>\n",
       "      <td>1.298901</td>\n",
       "      <td>-122.330518</td>\n",
       "      <td>47.619543</td>\n",
       "      <td>108479.364930</td>\n",
       "      <td>141091.456350</td>\n",
       "      <td>141298.811381</td>\n",
       "      <td>37558.450576</td>\n",
       "      <td>1.298901</td>\n",
       "      <td>2.444427</td>\n",
       "      <td>0.037139</td>\n",
       "      <td>0.028391</td>\n",
       "      <td>1.920780</td>\n",
       "      <td>13.867768</td>\n",
       "      <td>7.972521e+06</td>\n",
       "      <td>269.401114</td>\n",
       "      <td>9.782452e+03</td>\n",
       "      <td>2.938728</td>\n",
       "      <td>11.167106</td>\n",
       "      <td>2.493700</td>\n",
       "    </tr>\n",
       "    <tr>\n",
       "      <th>std</th>\n",
       "      <td>0.457778</td>\n",
       "      <td>0.029976</td>\n",
       "      <td>0.056157</td>\n",
       "      <td>62649.722558</td>\n",
       "      <td>86634.402737</td>\n",
       "      <td>86986.542110</td>\n",
       "      <td>51745.990273</td>\n",
       "      <td>0.457778</td>\n",
       "      <td>1.345929</td>\n",
       "      <td>0.198150</td>\n",
       "      <td>0.167413</td>\n",
       "      <td>0.631047</td>\n",
       "      <td>6.868755</td>\n",
       "      <td>2.553533e+06</td>\n",
       "      <td>3315.776055</td>\n",
       "      <td>7.226926e+04</td>\n",
       "      <td>1.921549</td>\n",
       "      <td>7.075297</td>\n",
       "      <td>1.207202</td>\n",
       "    </tr>\n",
       "    <tr>\n",
       "      <th>min</th>\n",
       "      <td>1.000000</td>\n",
       "      <td>-122.419091</td>\n",
       "      <td>47.495573</td>\n",
       "      <td>1.000000</td>\n",
       "      <td>1001.000000</td>\n",
       "      <td>1001.000000</td>\n",
       "      <td>23807.000000</td>\n",
       "      <td>1.000000</td>\n",
       "      <td>0.000000</td>\n",
       "      <td>0.000000</td>\n",
       "      <td>0.000000</td>\n",
       "      <td>0.000000</td>\n",
       "      <td>0.000000</td>\n",
       "      <td>1.007024e+06</td>\n",
       "      <td>0.000000</td>\n",
       "      <td>0.000000e+00</td>\n",
       "      <td>0.000000</td>\n",
       "      <td>0.000000</td>\n",
       "      <td>1.000000</td>\n",
       "    </tr>\n",
       "    <tr>\n",
       "      <th>25%</th>\n",
       "      <td>1.000000</td>\n",
       "      <td>-122.348673</td>\n",
       "      <td>47.575956</td>\n",
       "      <td>54267.000000</td>\n",
       "      <td>70383.000000</td>\n",
       "      <td>70383.000000</td>\n",
       "      <td>28667.000000</td>\n",
       "      <td>1.000000</td>\n",
       "      <td>2.000000</td>\n",
       "      <td>0.000000</td>\n",
       "      <td>0.000000</td>\n",
       "      <td>2.000000</td>\n",
       "      <td>11.000000</td>\n",
       "      <td>6.040015e+06</td>\n",
       "      <td>0.000000</td>\n",
       "      <td>0.000000e+00</td>\n",
       "      <td>1.000000</td>\n",
       "      <td>6.000000</td>\n",
       "      <td>2.000000</td>\n",
       "    </tr>\n",
       "    <tr>\n",
       "      <th>50%</th>\n",
       "      <td>1.000000</td>\n",
       "      <td>-122.330224</td>\n",
       "      <td>47.615369</td>\n",
       "      <td>106912.000000</td>\n",
       "      <td>123363.000000</td>\n",
       "      <td>123363.000000</td>\n",
       "      <td>29973.000000</td>\n",
       "      <td>1.000000</td>\n",
       "      <td>2.000000</td>\n",
       "      <td>0.000000</td>\n",
       "      <td>0.000000</td>\n",
       "      <td>2.000000</td>\n",
       "      <td>13.000000</td>\n",
       "      <td>8.023022e+06</td>\n",
       "      <td>0.000000</td>\n",
       "      <td>0.000000e+00</td>\n",
       "      <td>3.000000</td>\n",
       "      <td>12.000000</td>\n",
       "      <td>2.000000</td>\n",
       "    </tr>\n",
       "    <tr>\n",
       "      <th>75%</th>\n",
       "      <td>2.000000</td>\n",
       "      <td>-122.311937</td>\n",
       "      <td>47.663664</td>\n",
       "      <td>162272.000000</td>\n",
       "      <td>203319.000000</td>\n",
       "      <td>203459.000000</td>\n",
       "      <td>33973.000000</td>\n",
       "      <td>2.000000</td>\n",
       "      <td>3.000000</td>\n",
       "      <td>0.000000</td>\n",
       "      <td>0.000000</td>\n",
       "      <td>2.000000</td>\n",
       "      <td>14.000000</td>\n",
       "      <td>1.015501e+07</td>\n",
       "      <td>0.000000</td>\n",
       "      <td>0.000000e+00</td>\n",
       "      <td>5.000000</td>\n",
       "      <td>17.000000</td>\n",
       "      <td>4.000000</td>\n",
       "    </tr>\n",
       "    <tr>\n",
       "      <th>max</th>\n",
       "      <td>2.000000</td>\n",
       "      <td>-122.238949</td>\n",
       "      <td>47.734142</td>\n",
       "      <td>219547.000000</td>\n",
       "      <td>331454.000000</td>\n",
       "      <td>332954.000000</td>\n",
       "      <td>757580.000000</td>\n",
       "      <td>2.000000</td>\n",
       "      <td>81.000000</td>\n",
       "      <td>6.000000</td>\n",
       "      <td>2.000000</td>\n",
       "      <td>12.000000</td>\n",
       "      <td>69.000000</td>\n",
       "      <td>1.307202e+07</td>\n",
       "      <td>525241.000000</td>\n",
       "      <td>5.239700e+06</td>\n",
       "      <td>6.000000</td>\n",
       "      <td>23.000000</td>\n",
       "      <td>5.000000</td>\n",
       "    </tr>\n",
       "  </tbody>\n",
       "</table>\n",
       "</div>"
      ],
      "text/plain": [
       "        SEVERITYCODE              X              Y       OBJECTID  \\\n",
       "count  194673.000000  189339.000000  189339.000000  194673.000000   \n",
       "mean        1.298901    -122.330518      47.619543  108479.364930   \n",
       "std         0.457778       0.029976       0.056157   62649.722558   \n",
       "min         1.000000    -122.419091      47.495573       1.000000   \n",
       "25%         1.000000    -122.348673      47.575956   54267.000000   \n",
       "50%         1.000000    -122.330224      47.615369  106912.000000   \n",
       "75%         2.000000    -122.311937      47.663664  162272.000000   \n",
       "max         2.000000    -122.238949      47.734142  219547.000000   \n",
       "\n",
       "              INCKEY      COLDETKEY         INTKEY  SEVERITYCODE.1  \\\n",
       "count  194673.000000  194673.000000   65070.000000   194673.000000   \n",
       "mean   141091.456350  141298.811381   37558.450576        1.298901   \n",
       "std     86634.402737   86986.542110   51745.990273        0.457778   \n",
       "min      1001.000000    1001.000000   23807.000000        1.000000   \n",
       "25%     70383.000000   70383.000000   28667.000000        1.000000   \n",
       "50%    123363.000000  123363.000000   29973.000000        1.000000   \n",
       "75%    203319.000000  203459.000000   33973.000000        2.000000   \n",
       "max    331454.000000  332954.000000  757580.000000        2.000000   \n",
       "\n",
       "         PERSONCOUNT       PEDCOUNT    PEDCYLCOUNT       VEHCOUNT  \\\n",
       "count  194673.000000  194673.000000  194673.000000  194673.000000   \n",
       "mean        2.444427       0.037139       0.028391       1.920780   \n",
       "std         1.345929       0.198150       0.167413       0.631047   \n",
       "min         0.000000       0.000000       0.000000       0.000000   \n",
       "25%         2.000000       0.000000       0.000000       2.000000   \n",
       "50%         2.000000       0.000000       0.000000       2.000000   \n",
       "75%         3.000000       0.000000       0.000000       2.000000   \n",
       "max        81.000000       6.000000       2.000000      12.000000   \n",
       "\n",
       "        SDOT_COLCODE    SDOTCOLNUM     SEGLANEKEY  CROSSWALKKEY  \\\n",
       "count  194673.000000  1.149360e+05  194673.000000  1.946730e+05   \n",
       "mean       13.867768  7.972521e+06     269.401114  9.782452e+03   \n",
       "std         6.868755  2.553533e+06    3315.776055  7.226926e+04   \n",
       "min         0.000000  1.007024e+06       0.000000  0.000000e+00   \n",
       "25%        11.000000  6.040015e+06       0.000000  0.000000e+00   \n",
       "50%        13.000000  8.023022e+06       0.000000  0.000000e+00   \n",
       "75%        14.000000  1.015501e+07       0.000000  0.000000e+00   \n",
       "max        69.000000  1.307202e+07  525241.000000  5.239700e+06   \n",
       "\n",
       "           dayofweek      hourofday      HourState  \n",
       "count  194673.000000  194673.000000  194673.000000  \n",
       "mean        2.938728      11.167106       2.493700  \n",
       "std         1.921549       7.075297       1.207202  \n",
       "min         0.000000       0.000000       1.000000  \n",
       "25%         1.000000       6.000000       2.000000  \n",
       "50%         3.000000      12.000000       2.000000  \n",
       "75%         5.000000      17.000000       4.000000  \n",
       "max         6.000000      23.000000       5.000000  "
      ]
     },
     "execution_count": 15,
     "metadata": {},
     "output_type": "execute_result"
    }
   ],
   "source": [
    "df.describe()"
   ]
  },
  {
   "cell_type": "markdown",
   "metadata": {},
   "source": [
    "INTKEY is the key that corresponds to the intersection associated with a collision, so we prefer use ADDRTYPE tranform from Categorical to Cuantitive value and drop INTKEY.\n",
    "In addition, there is not cuantitive variables with mising values except with X (Longitude) and Y (Latitude)."
   ]
  },
  {
   "cell_type": "code",
   "execution_count": 16,
   "metadata": {},
   "outputs": [],
   "source": [
    "df.drop(['INTKEY'], axis=1, inplace=True)"
   ]
  },
  {
   "cell_type": "markdown",
   "metadata": {},
   "source": [
    "Before to analyze categorical variables, we need to drop redundant information"
   ]
  },
  {
   "cell_type": "code",
   "execution_count": 17,
   "metadata": {},
   "outputs": [
    {
     "name": "stdout",
     "output_type": "stream",
     "text": [
      "<class 'pandas.core.frame.DataFrame'>\n",
      "RangeIndex: 194673 entries, 0 to 194672\n",
      "Data columns (total 40 columns):\n",
      " #   Column          Non-Null Count   Dtype              \n",
      "---  ------          --------------   -----              \n",
      " 0   SEVERITYCODE    194673 non-null  int64              \n",
      " 1   X               189339 non-null  float64            \n",
      " 2   Y               189339 non-null  float64            \n",
      " 3   OBJECTID        194673 non-null  int64              \n",
      " 4   INCKEY          194673 non-null  int64              \n",
      " 5   COLDETKEY       194673 non-null  int64              \n",
      " 6   REPORTNO        194673 non-null  object             \n",
      " 7   STATUS          194673 non-null  object             \n",
      " 8   ADDRTYPE        192747 non-null  object             \n",
      " 9   LOCATION        191996 non-null  object             \n",
      " 10  EXCEPTRSNCODE   84811 non-null   object             \n",
      " 11  EXCEPTRSNDESC   5638 non-null    object             \n",
      " 12  SEVERITYCODE.1  194673 non-null  int64              \n",
      " 13  SEVERITYDESC    194673 non-null  object             \n",
      " 14  COLLISIONTYPE   189769 non-null  object             \n",
      " 15  PERSONCOUNT     194673 non-null  int64              \n",
      " 16  PEDCOUNT        194673 non-null  int64              \n",
      " 17  PEDCYLCOUNT     194673 non-null  int64              \n",
      " 18  VEHCOUNT        194673 non-null  int64              \n",
      " 19  INCDATE         194673 non-null  datetime64[ns, UTC]\n",
      " 20  INCDTTM         194673 non-null  datetime64[ns]     \n",
      " 21  JUNCTIONTYPE    188344 non-null  object             \n",
      " 22  SDOT_COLCODE    194673 non-null  int64              \n",
      " 23  SDOT_COLDESC    194673 non-null  object             \n",
      " 24  INATTENTIONIND  29805 non-null   object             \n",
      " 25  UNDERINFL       189789 non-null  object             \n",
      " 26  WEATHER         189592 non-null  object             \n",
      " 27  ROADCOND        189661 non-null  object             \n",
      " 28  LIGHTCOND       189503 non-null  object             \n",
      " 29  PEDROWNOTGRNT   4667 non-null    object             \n",
      " 30  SDOTCOLNUM      114936 non-null  float64            \n",
      " 31  SPEEDING        9333 non-null    object             \n",
      " 32  ST_COLCODE      194655 non-null  object             \n",
      " 33  ST_COLDESC      189769 non-null  object             \n",
      " 34  SEGLANEKEY      194673 non-null  int64              \n",
      " 35  CROSSWALKKEY    194673 non-null  int64              \n",
      " 36  HITPARKEDCAR    194673 non-null  object             \n",
      " 37  dayofweek       194673 non-null  int64              \n",
      " 38  hourofday       194673 non-null  int64              \n",
      " 39  HourState       194673 non-null  int64              \n",
      "dtypes: datetime64[ns, UTC](1), datetime64[ns](1), float64(3), int64(15), object(20)\n",
      "memory usage: 59.4+ MB\n"
     ]
    }
   ],
   "source": [
    "df.info()"
   ]
  },
  {
   "cell_type": "markdown",
   "metadata": {},
   "source": [
    "Details:\n",
    "\n",
    "* SEVERITYCODE is the label, it is OK!\n",
    "* X=Longitud and Y=Latitud are OK!. \n",
    "* OBJECTID is a index, so is not necessary,\n",
    "* INCKEY is a index, so is not necessary,\n",
    "* COLDETKEY is a secundary index, so is not necessary, \n",
    "* REPORTNO is a index, so is not necessary,         \n",
    "* STATUS is not necessary,          \n",
    "* ADDRTYPE is OK!.\n",
    "* LOCATION we have latitude and longitude, so is not necessary,\n",
    "* EXCEPTRSNCODE there is not description, so is dismissed,     \n",
    "* EXCEPTRSNDESC there is not description, so is dismissed,\n",
    "* SEVERITYCODE.1 is the same to SEVERITY CODE, so is not necessary, \n",
    "* SEVERITYDESC is a description of SEVERITY CODE, so is not necessary,      \n",
    "* COLLISIONTYPE is OK!.\n",
    "* PERSONCOUNT is OK!.          \n",
    "* PEDCOUNT is OK!.       \n",
    "* PEDCYLCOUNT is OK!.            \n",
    "* VEHCOUNT is OK!.         \n",
    "* INCDATE we have HourState, so is not necessary,\n",
    "* INCDTTM we have HourState, so is not necessary,\n",
    "* JUNCTIONTYPE we have ADDRTYPE, so is no necessary,         \n",
    "* SDOT_COLCODE is a code, so is not necessary,        \n",
    "* SDOT_COLDESC is a description SDOT_COLCODE, so is not necessary,         \n",
    "* INATTENTIONIND there is not sufficient data, so is not necessary, \n",
    "* UNDERINFL is OK!.   \n",
    "* WEATHER is OK!.       \n",
    "* ROADCOND is OK!.          \n",
    "* LIGHTCOND is OK!.          \n",
    "* PEDROWNOTGRNT there is not sufficient data, so is not necessary,      \n",
    "* SDOTCOLNUM is a number given to the colission, so is not necessary,    \n",
    "* SPEEDING there is not sufficient data, so is not necessary,           \n",
    "* ST_COLCODE is a code, so is not necessary,         \n",
    "* ST_COLDESC is a description ST_COLCODE, so is not necessary,   \n",
    "* SEGLANEKEY is a code, so is not necessary,       \n",
    "* CROSSWALKKEY is a key, so is not necessary,   \n",
    "* HITPARKEDCAR is OK!.      \n",
    "* dayofweek is OK!.\n",
    "* hourofday we have HourState, so is not necessary,"
   ]
  },
  {
   "cell_type": "markdown",
   "metadata": {},
   "source": [
    "### Drop columns are not necessary to the model"
   ]
  },
  {
   "cell_type": "code",
   "execution_count": 18,
   "metadata": {
    "scrolled": false
   },
   "outputs": [
    {
     "data": {
      "text/html": [
       "<div>\n",
       "<style scoped>\n",
       "    .dataframe tbody tr th:only-of-type {\n",
       "        vertical-align: middle;\n",
       "    }\n",
       "\n",
       "    .dataframe tbody tr th {\n",
       "        vertical-align: top;\n",
       "    }\n",
       "\n",
       "    .dataframe thead th {\n",
       "        text-align: right;\n",
       "    }\n",
       "</style>\n",
       "<table border=\"1\" class=\"dataframe\">\n",
       "  <thead>\n",
       "    <tr style=\"text-align: right;\">\n",
       "      <th></th>\n",
       "      <th>SEVERITYCODE</th>\n",
       "      <th>X</th>\n",
       "      <th>Y</th>\n",
       "      <th>ADDRTYPE</th>\n",
       "      <th>COLLISIONTYPE</th>\n",
       "      <th>PERSONCOUNT</th>\n",
       "      <th>PEDCOUNT</th>\n",
       "      <th>PEDCYLCOUNT</th>\n",
       "      <th>VEHCOUNT</th>\n",
       "      <th>UNDERINFL</th>\n",
       "      <th>WEATHER</th>\n",
       "      <th>ROADCOND</th>\n",
       "      <th>LIGHTCOND</th>\n",
       "      <th>HITPARKEDCAR</th>\n",
       "      <th>dayofweek</th>\n",
       "      <th>HourState</th>\n",
       "    </tr>\n",
       "  </thead>\n",
       "  <tbody>\n",
       "    <tr>\n",
       "      <th>0</th>\n",
       "      <td>2</td>\n",
       "      <td>-122.323148</td>\n",
       "      <td>47.703140</td>\n",
       "      <td>Intersection</td>\n",
       "      <td>Angles</td>\n",
       "      <td>2</td>\n",
       "      <td>0</td>\n",
       "      <td>0</td>\n",
       "      <td>2</td>\n",
       "      <td>N</td>\n",
       "      <td>Overcast</td>\n",
       "      <td>Wet</td>\n",
       "      <td>Daylight</td>\n",
       "      <td>N</td>\n",
       "      <td>2</td>\n",
       "      <td>2</td>\n",
       "    </tr>\n",
       "    <tr>\n",
       "      <th>1</th>\n",
       "      <td>1</td>\n",
       "      <td>-122.347294</td>\n",
       "      <td>47.647172</td>\n",
       "      <td>Block</td>\n",
       "      <td>Sideswipe</td>\n",
       "      <td>2</td>\n",
       "      <td>0</td>\n",
       "      <td>0</td>\n",
       "      <td>2</td>\n",
       "      <td>0</td>\n",
       "      <td>Raining</td>\n",
       "      <td>Wet</td>\n",
       "      <td>Dark - Street Lights On</td>\n",
       "      <td>N</td>\n",
       "      <td>2</td>\n",
       "      <td>2</td>\n",
       "    </tr>\n",
       "    <tr>\n",
       "      <th>2</th>\n",
       "      <td>1</td>\n",
       "      <td>-122.334540</td>\n",
       "      <td>47.607871</td>\n",
       "      <td>Block</td>\n",
       "      <td>Parked Car</td>\n",
       "      <td>4</td>\n",
       "      <td>0</td>\n",
       "      <td>0</td>\n",
       "      <td>3</td>\n",
       "      <td>0</td>\n",
       "      <td>Overcast</td>\n",
       "      <td>Dry</td>\n",
       "      <td>Daylight</td>\n",
       "      <td>N</td>\n",
       "      <td>3</td>\n",
       "      <td>1</td>\n",
       "    </tr>\n",
       "    <tr>\n",
       "      <th>3</th>\n",
       "      <td>1</td>\n",
       "      <td>-122.334803</td>\n",
       "      <td>47.604803</td>\n",
       "      <td>Block</td>\n",
       "      <td>Other</td>\n",
       "      <td>3</td>\n",
       "      <td>0</td>\n",
       "      <td>0</td>\n",
       "      <td>3</td>\n",
       "      <td>N</td>\n",
       "      <td>Clear</td>\n",
       "      <td>Dry</td>\n",
       "      <td>Daylight</td>\n",
       "      <td>N</td>\n",
       "      <td>4</td>\n",
       "      <td>1</td>\n",
       "    </tr>\n",
       "    <tr>\n",
       "      <th>4</th>\n",
       "      <td>2</td>\n",
       "      <td>-122.306426</td>\n",
       "      <td>47.545739</td>\n",
       "      <td>Intersection</td>\n",
       "      <td>Angles</td>\n",
       "      <td>2</td>\n",
       "      <td>0</td>\n",
       "      <td>0</td>\n",
       "      <td>2</td>\n",
       "      <td>0</td>\n",
       "      <td>Raining</td>\n",
       "      <td>Wet</td>\n",
       "      <td>Daylight</td>\n",
       "      <td>N</td>\n",
       "      <td>2</td>\n",
       "      <td>1</td>\n",
       "    </tr>\n",
       "  </tbody>\n",
       "</table>\n",
       "</div>"
      ],
      "text/plain": [
       "   SEVERITYCODE           X          Y      ADDRTYPE COLLISIONTYPE  \\\n",
       "0             2 -122.323148  47.703140  Intersection        Angles   \n",
       "1             1 -122.347294  47.647172         Block     Sideswipe   \n",
       "2             1 -122.334540  47.607871         Block    Parked Car   \n",
       "3             1 -122.334803  47.604803         Block         Other   \n",
       "4             2 -122.306426  47.545739  Intersection        Angles   \n",
       "\n",
       "   PERSONCOUNT  PEDCOUNT  PEDCYLCOUNT  VEHCOUNT UNDERINFL   WEATHER ROADCOND  \\\n",
       "0            2         0            0         2         N  Overcast      Wet   \n",
       "1            2         0            0         2         0   Raining      Wet   \n",
       "2            4         0            0         3         0  Overcast      Dry   \n",
       "3            3         0            0         3         N     Clear      Dry   \n",
       "4            2         0            0         2         0   Raining      Wet   \n",
       "\n",
       "                 LIGHTCOND HITPARKEDCAR  dayofweek  HourState  \n",
       "0                 Daylight            N          2          2  \n",
       "1  Dark - Street Lights On            N          2          2  \n",
       "2                 Daylight            N          3          1  \n",
       "3                 Daylight            N          4          1  \n",
       "4                 Daylight            N          2          1  "
      ]
     },
     "execution_count": 18,
     "metadata": {},
     "output_type": "execute_result"
    }
   ],
   "source": [
    "df.drop(['LOCATION', 'OBJECTID','INCKEY','COLDETKEY','REPORTNO','STATUS','LOCATION','EXCEPTRSNCODE','EXCEPTRSNDESC',\n",
    "         'SEVERITYCODE.1','SEVERITYDESC','INCDATE','INCDTTM','JUNCTIONTYPE','SDOT_COLCODE','SDOT_COLDESC',\n",
    "         'INATTENTIONIND','PEDROWNOTGRNT','SDOTCOLNUM','SPEEDING','ST_COLCODE','ST_COLDESC','SEGLANEKEY','CROSSWALKKEY','hourofday'], axis=1,inplace=True)\n",
    "df.head()"
   ]
  },
  {
   "cell_type": "markdown",
   "metadata": {},
   "source": [
    "\n",
    "Now, I have a question!!. My Label (target) is balanced?\n",
    "\n",
    "**That is what we will see next**"
   ]
  },
  {
   "cell_type": "markdown",
   "metadata": {},
   "source": [
    "## Unbalance Label (Target)"
   ]
  },
  {
   "cell_type": "code",
   "execution_count": 19,
   "metadata": {},
   "outputs": [
    {
     "name": "stdout",
     "output_type": "stream",
     "text": [
      "Class 1: 136485\n",
      "Class 2: 58188\n",
      "Proportion: 2.35 : 1\n"
     ]
    },
    {
     "data": {
      "image/png": "[encoded data removed]",
      "text/plain": [
       "<Figure size 432x288 with 1 Axes>"
      ]
     },
     "metadata": {
      "needs_background": "light"
     },
     "output_type": "display_data"
    }
   ],
   "source": [
    "import numpy as np\n",
    "\n",
    "target_count = df['SEVERITYCODE'].value_counts()\n",
    "print('Class 1:', target_count[1])\n",
    "print('Class 2:', target_count[2])\n",
    "print('Proportion:', round(target_count[1] / target_count[2], 2), ': 1')\n",
    "target_count.plot(kind='bar', title='Count (target)');"
   ]
  },
  {
   "cell_type": "markdown",
   "metadata": {},
   "source": [
    "## Resampling"
   ]
  },
  {
   "cell_type": "code",
   "execution_count": 20,
   "metadata": {},
   "outputs": [],
   "source": [
    "# Class count\n",
    "count_class_1, count_class_2 = df['SEVERITYCODE'].value_counts()\n",
    "\n",
    "# Divide by class\n",
    "df_class_1 = df[df['SEVERITYCODE'] == 1]\n",
    "df_class_2 = df[df['SEVERITYCODE'] == 2]"
   ]
  },
  {
   "cell_type": "markdown",
   "metadata": {},
   "source": [
    "### Random Over - Sampling"
   ]
  },
  {
   "cell_type": "code",
   "execution_count": 21,
   "metadata": {},
   "outputs": [
    {
     "name": "stdout",
     "output_type": "stream",
     "text": [
      "Random over-sampling:\n",
      "2    136485\n",
      "1    136485\n",
      "Name: SEVERITYCODE, dtype: int64\n"
     ]
    },
    {
     "data": {
      "text/plain": [
       "<AxesSubplot:title={'center':'Count (target)'}>"
      ]
     },
     "execution_count": 21,
     "metadata": {},
     "output_type": "execute_result"
    },
    {
     "data": {
      "image/png": "[encoded data removed]",
      "text/plain": [
       "<Figure size 432x288 with 1 Axes>"
      ]
     },
     "metadata": {
      "needs_background": "light"
     },
     "output_type": "display_data"
    }
   ],
   "source": [
    "df_class_2_over = df_class_2.sample(count_class_1, replace=True)\n",
    "df_over = pd.concat([df_class_1, df_class_2_over], axis=0)\n",
    "\n",
    "print('Random over-sampling:')\n",
    "print(df_over['SEVERITYCODE'].value_counts())\n",
    "\n",
    "df_over['SEVERITYCODE'].value_counts().plot(kind='bar', title='Count (target)')"
   ]
  },
  {
   "cell_type": "markdown",
   "metadata": {},
   "source": [
    "### Random Under - Sampling (Optional)"
   ]
  },
  {
   "cell_type": "code",
   "execution_count": 22,
   "metadata": {},
   "outputs": [
    {
     "data": {
      "text/plain": [
       "\"df_class_1_under = df_class_1.sample(count_class_2)\\ndf_under = pd.concat([df_class_1_under, df_class_2], axis=0)\\n\\nprint('Random under-sampling:')\\nprint(df_under['SEVERITYCODE'].value_counts())\\n\\ndf_under['SEVERITYCODE'].value_counts().plot(kind='bar', title='Count (target)')\""
      ]
     },
     "execution_count": 22,
     "metadata": {},
     "output_type": "execute_result"
    }
   ],
   "source": [
    "'''df_class_1_under = df_class_1.sample(count_class_2)\n",
    "df_under = pd.concat([df_class_1_under, df_class_2], axis=0)\n",
    "\n",
    "print('Random under-sampling:')\n",
    "print(df_under['SEVERITYCODE'].value_counts())\n",
    "\n",
    "df_under['SEVERITYCODE'].value_counts().plot(kind='bar', title='Count (target)')'''"
   ]
  },
  {
   "cell_type": "markdown",
   "metadata": {},
   "source": [
    "## Convert Categorical features to numerical values"
   ]
  },
  {
   "cell_type": "markdown",
   "metadata": {},
   "source": [
    "\n",
    "To transform the categorical characteristics we will use two methods:\n",
    "\n",
    "1. Transform categorical variables to numeric variables directly or\n",
    "2. One hot encoding. Addition to this, delete some values with little information\n"
   ]
  },
  {
   "cell_type": "markdown",
   "metadata": {},
   "source": [
    "### First Method"
   ]
  },
  {
   "cell_type": "code",
   "execution_count": 23,
   "metadata": {},
   "outputs": [
    {
     "name": "stdout",
     "output_type": "stream",
     "text": [
      "<class 'pandas.core.frame.DataFrame'>\n",
      "Int64Index: 272970 entries, 1 to 43073\n",
      "Data columns (total 16 columns):\n",
      " #   Column         Non-Null Count   Dtype  \n",
      "---  ------         --------------   -----  \n",
      " 0   SEVERITYCODE   272970 non-null  int64  \n",
      " 1   X              266140 non-null  float64\n",
      " 2   Y              266140 non-null  float64\n",
      " 3   ADDRTYPE       270789 non-null  object \n",
      " 4   COLLISIONTYPE  266717 non-null  object \n",
      " 5   PERSONCOUNT    272970 non-null  int64  \n",
      " 6   PEDCOUNT       272970 non-null  int64  \n",
      " 7   PEDCYLCOUNT    272970 non-null  int64  \n",
      " 8   VEHCOUNT       272970 non-null  int64  \n",
      " 9   UNDERINFL      266749 non-null  object \n",
      " 10  WEATHER        266472 non-null  object \n",
      " 11  ROADCOND       266594 non-null  object \n",
      " 12  LIGHTCOND      266378 non-null  object \n",
      " 13  HITPARKEDCAR   272970 non-null  object \n",
      " 14  dayofweek      272970 non-null  int64  \n",
      " 15  HourState      272970 non-null  int64  \n",
      "dtypes: float64(2), int64(7), object(7)\n",
      "memory usage: 35.4+ MB\n"
     ]
    }
   ],
   "source": [
    "df_over.info()"
   ]
  },
  {
   "cell_type": "code",
   "execution_count": 24,
   "metadata": {},
   "outputs": [
    {
     "data": {
      "text/plain": [
       "Alley              887\n",
       "Intersection    102745\n",
       "Block           167157\n",
       "Name: ADDRTYPE, dtype: int64"
      ]
     },
     "execution_count": 24,
     "metadata": {},
     "output_type": "execute_result"
    }
   ],
   "source": [
    "df_over.ADDRTYPE.value_counts().sort_values()"
   ]
  },
  {
   "cell_type": "code",
   "execution_count": 25,
   "metadata": {
    "scrolled": true
   },
   "outputs": [
    {
     "data": {
      "text/plain": [
       "2.0       887\n",
       "1.0    102745\n",
       "0.0    167157\n",
       "Name: ADDRTYPE, dtype: int64"
      ]
     },
     "execution_count": 25,
     "metadata": {},
     "output_type": "execute_result"
    }
   ],
   "source": [
    "df_over['ADDRTYPE'].replace(to_replace=['Block','Intersection','Alley'], value=[0,1,2],inplace=True)\n",
    "df_over.ADDRTYPE.value_counts().sort_values()"
   ]
  },
  {
   "cell_type": "code",
   "execution_count": 26,
   "metadata": {},
   "outputs": [
    {
     "data": {
      "text/plain": [
       "1      6181\n",
       "Y      7874\n",
       "0    110755\n",
       "N    141939\n",
       "Name: UNDERINFL, dtype: int64"
      ]
     },
     "execution_count": 26,
     "metadata": {},
     "output_type": "execute_result"
    }
   ],
   "source": [
    "df_over.UNDERINFL.value_counts().sort_values()"
   ]
  },
  {
   "cell_type": "code",
   "execution_count": 27,
   "metadata": {},
   "outputs": [
    {
     "data": {
      "text/plain": [
       "1.0     14055\n",
       "0.0    252694\n",
       "Name: UNDERINFL, dtype: int64"
      ]
     },
     "execution_count": 27,
     "metadata": {},
     "output_type": "execute_result"
    }
   ],
   "source": [
    "df_over['UNDERINFL'].replace(to_replace=['N','Y'], value=['0','1'],inplace=True)\n",
    "df_over['UNDERINFL'].replace(to_replace=['0','1'], value=[0,1],inplace=True)\n",
    "df_over.UNDERINFL.value_counts().sort_values()"
   ]
  },
  {
   "cell_type": "code",
   "execution_count": 28,
   "metadata": {},
   "outputs": [
    {
     "data": {
      "text/plain": [
       "Y      7856\n",
       "N    265114\n",
       "Name: HITPARKEDCAR, dtype: int64"
      ]
     },
     "execution_count": 28,
     "metadata": {},
     "output_type": "execute_result"
    }
   ],
   "source": [
    "df_over.HITPARKEDCAR.value_counts().sort_values()"
   ]
  },
  {
   "cell_type": "code",
   "execution_count": 29,
   "metadata": {},
   "outputs": [
    {
     "data": {
      "text/plain": [
       "1      7856\n",
       "0    265114\n",
       "Name: HITPARKEDCAR, dtype: int64"
      ]
     },
     "execution_count": 29,
     "metadata": {},
     "output_type": "execute_result"
    }
   ],
   "source": [
    "df_over['HITPARKEDCAR'].replace(to_replace=['N','Y'], value=[0,1],inplace=True)\n",
    "df_over.HITPARKEDCAR.value_counts().sort_values()"
   ]
  },
  {
   "cell_type": "markdown",
   "metadata": {},
   "source": [
    "### Second Method (One hot enconding)"
   ]
  },
  {
   "cell_type": "code",
   "execution_count": 30,
   "metadata": {},
   "outputs": [
    {
     "name": "stdout",
     "output_type": "stream",
     "text": [
      "<class 'pandas.core.frame.DataFrame'>\n",
      "Int64Index: 272970 entries, 1 to 43073\n",
      "Data columns (total 16 columns):\n",
      " #   Column         Non-Null Count   Dtype  \n",
      "---  ------         --------------   -----  \n",
      " 0   SEVERITYCODE   272970 non-null  int64  \n",
      " 1   X              266140 non-null  float64\n",
      " 2   Y              266140 non-null  float64\n",
      " 3   ADDRTYPE       270789 non-null  float64\n",
      " 4   COLLISIONTYPE  266717 non-null  object \n",
      " 5   PERSONCOUNT    272970 non-null  int64  \n",
      " 6   PEDCOUNT       272970 non-null  int64  \n",
      " 7   PEDCYLCOUNT    272970 non-null  int64  \n",
      " 8   VEHCOUNT       272970 non-null  int64  \n",
      " 9   UNDERINFL      266749 non-null  float64\n",
      " 10  WEATHER        266472 non-null  object \n",
      " 11  ROADCOND       266594 non-null  object \n",
      " 12  LIGHTCOND      266378 non-null  object \n",
      " 13  HITPARKEDCAR   272970 non-null  int64  \n",
      " 14  dayofweek      272970 non-null  int64  \n",
      " 15  HourState      272970 non-null  int64  \n",
      "dtypes: float64(4), int64(8), object(4)\n",
      "memory usage: 35.4+ MB\n"
     ]
    }
   ],
   "source": [
    "df_over.info()"
   ]
  },
  {
   "cell_type": "code",
   "execution_count": 31,
   "metadata": {},
   "outputs": [],
   "source": [
    "df_over = df_over.dropna()"
   ]
  },
  {
   "cell_type": "code",
   "execution_count": 32,
   "metadata": {},
   "outputs": [
    {
     "data": {
      "text/html": [
       "<div>\n",
       "<style scoped>\n",
       "    .dataframe tbody tr th:only-of-type {\n",
       "        vertical-align: middle;\n",
       "    }\n",
       "\n",
       "    .dataframe tbody tr th {\n",
       "        vertical-align: top;\n",
       "    }\n",
       "\n",
       "    .dataframe thead th {\n",
       "        text-align: right;\n",
       "    }\n",
       "</style>\n",
       "<table border=\"1\" class=\"dataframe\">\n",
       "  <thead>\n",
       "    <tr style=\"text-align: right;\">\n",
       "      <th></th>\n",
       "      <th>SEVERITYCODE</th>\n",
       "      <th>X</th>\n",
       "      <th>Y</th>\n",
       "      <th>ADDRTYPE</th>\n",
       "      <th>COLLISIONTYPE</th>\n",
       "      <th>PERSONCOUNT</th>\n",
       "      <th>PEDCOUNT</th>\n",
       "      <th>PEDCYLCOUNT</th>\n",
       "      <th>VEHCOUNT</th>\n",
       "      <th>UNDERINFL</th>\n",
       "      <th>WEATHER</th>\n",
       "      <th>ROADCOND</th>\n",
       "      <th>LIGHTCOND</th>\n",
       "      <th>HITPARKEDCAR</th>\n",
       "      <th>dayofweek</th>\n",
       "      <th>HourState</th>\n",
       "    </tr>\n",
       "  </thead>\n",
       "  <tbody>\n",
       "    <tr>\n",
       "      <th>0</th>\n",
       "      <td>1</td>\n",
       "      <td>-122.347294</td>\n",
       "      <td>47.647172</td>\n",
       "      <td>0.0</td>\n",
       "      <td>Sideswipe</td>\n",
       "      <td>2</td>\n",
       "      <td>0</td>\n",
       "      <td>0</td>\n",
       "      <td>2</td>\n",
       "      <td>0.0</td>\n",
       "      <td>Raining</td>\n",
       "      <td>Wet</td>\n",
       "      <td>Dark - Street Lights On</td>\n",
       "      <td>0</td>\n",
       "      <td>2</td>\n",
       "      <td>2</td>\n",
       "    </tr>\n",
       "    <tr>\n",
       "      <th>1</th>\n",
       "      <td>1</td>\n",
       "      <td>-122.334540</td>\n",
       "      <td>47.607871</td>\n",
       "      <td>0.0</td>\n",
       "      <td>Parked Car</td>\n",
       "      <td>4</td>\n",
       "      <td>0</td>\n",
       "      <td>0</td>\n",
       "      <td>3</td>\n",
       "      <td>0.0</td>\n",
       "      <td>Overcast</td>\n",
       "      <td>Dry</td>\n",
       "      <td>Daylight</td>\n",
       "      <td>0</td>\n",
       "      <td>3</td>\n",
       "      <td>1</td>\n",
       "    </tr>\n",
       "    <tr>\n",
       "      <th>2</th>\n",
       "      <td>1</td>\n",
       "      <td>-122.334803</td>\n",
       "      <td>47.604803</td>\n",
       "      <td>0.0</td>\n",
       "      <td>Other</td>\n",
       "      <td>3</td>\n",
       "      <td>0</td>\n",
       "      <td>0</td>\n",
       "      <td>3</td>\n",
       "      <td>0.0</td>\n",
       "      <td>Clear</td>\n",
       "      <td>Dry</td>\n",
       "      <td>Daylight</td>\n",
       "      <td>0</td>\n",
       "      <td>4</td>\n",
       "      <td>1</td>\n",
       "    </tr>\n",
       "    <tr>\n",
       "      <th>3</th>\n",
       "      <td>1</td>\n",
       "      <td>-122.387598</td>\n",
       "      <td>47.690575</td>\n",
       "      <td>1.0</td>\n",
       "      <td>Angles</td>\n",
       "      <td>2</td>\n",
       "      <td>0</td>\n",
       "      <td>0</td>\n",
       "      <td>2</td>\n",
       "      <td>0.0</td>\n",
       "      <td>Clear</td>\n",
       "      <td>Dry</td>\n",
       "      <td>Daylight</td>\n",
       "      <td>0</td>\n",
       "      <td>5</td>\n",
       "      <td>2</td>\n",
       "    </tr>\n",
       "    <tr>\n",
       "      <th>4</th>\n",
       "      <td>1</td>\n",
       "      <td>-122.338485</td>\n",
       "      <td>47.618534</td>\n",
       "      <td>1.0</td>\n",
       "      <td>Angles</td>\n",
       "      <td>2</td>\n",
       "      <td>0</td>\n",
       "      <td>0</td>\n",
       "      <td>2</td>\n",
       "      <td>0.0</td>\n",
       "      <td>Raining</td>\n",
       "      <td>Wet</td>\n",
       "      <td>Daylight</td>\n",
       "      <td>0</td>\n",
       "      <td>1</td>\n",
       "      <td>4</td>\n",
       "    </tr>\n",
       "    <tr>\n",
       "      <th>...</th>\n",
       "      <td>...</td>\n",
       "      <td>...</td>\n",
       "      <td>...</td>\n",
       "      <td>...</td>\n",
       "      <td>...</td>\n",
       "      <td>...</td>\n",
       "      <td>...</td>\n",
       "      <td>...</td>\n",
       "      <td>...</td>\n",
       "      <td>...</td>\n",
       "      <td>...</td>\n",
       "      <td>...</td>\n",
       "      <td>...</td>\n",
       "      <td>...</td>\n",
       "      <td>...</td>\n",
       "      <td>...</td>\n",
       "    </tr>\n",
       "    <tr>\n",
       "      <th>259500</th>\n",
       "      <td>2</td>\n",
       "      <td>-122.351191</td>\n",
       "      <td>47.517337</td>\n",
       "      <td>0.0</td>\n",
       "      <td>Rear Ended</td>\n",
       "      <td>4</td>\n",
       "      <td>0</td>\n",
       "      <td>0</td>\n",
       "      <td>3</td>\n",
       "      <td>0.0</td>\n",
       "      <td>Clear</td>\n",
       "      <td>Dry</td>\n",
       "      <td>Daylight</td>\n",
       "      <td>0</td>\n",
       "      <td>4</td>\n",
       "      <td>2</td>\n",
       "    </tr>\n",
       "    <tr>\n",
       "      <th>259501</th>\n",
       "      <td>2</td>\n",
       "      <td>-122.287209</td>\n",
       "      <td>47.661371</td>\n",
       "      <td>1.0</td>\n",
       "      <td>Rear Ended</td>\n",
       "      <td>3</td>\n",
       "      <td>0</td>\n",
       "      <td>0</td>\n",
       "      <td>2</td>\n",
       "      <td>0.0</td>\n",
       "      <td>Unknown</td>\n",
       "      <td>Unknown</td>\n",
       "      <td>Daylight</td>\n",
       "      <td>0</td>\n",
       "      <td>1</td>\n",
       "      <td>2</td>\n",
       "    </tr>\n",
       "    <tr>\n",
       "      <th>259502</th>\n",
       "      <td>2</td>\n",
       "      <td>-122.339439</td>\n",
       "      <td>47.564500</td>\n",
       "      <td>1.0</td>\n",
       "      <td>Sideswipe</td>\n",
       "      <td>4</td>\n",
       "      <td>0</td>\n",
       "      <td>0</td>\n",
       "      <td>4</td>\n",
       "      <td>0.0</td>\n",
       "      <td>Overcast</td>\n",
       "      <td>Wet</td>\n",
       "      <td>Daylight</td>\n",
       "      <td>0</td>\n",
       "      <td>1</td>\n",
       "      <td>1</td>\n",
       "    </tr>\n",
       "    <tr>\n",
       "      <th>259503</th>\n",
       "      <td>2</td>\n",
       "      <td>-122.332429</td>\n",
       "      <td>47.601720</td>\n",
       "      <td>0.0</td>\n",
       "      <td>Sideswipe</td>\n",
       "      <td>2</td>\n",
       "      <td>0</td>\n",
       "      <td>0</td>\n",
       "      <td>2</td>\n",
       "      <td>0.0</td>\n",
       "      <td>Clear</td>\n",
       "      <td>Wet</td>\n",
       "      <td>Dark - Street Lights On</td>\n",
       "      <td>0</td>\n",
       "      <td>5</td>\n",
       "      <td>3</td>\n",
       "    </tr>\n",
       "    <tr>\n",
       "      <th>259504</th>\n",
       "      <td>2</td>\n",
       "      <td>-122.333993</td>\n",
       "      <td>47.708663</td>\n",
       "      <td>1.0</td>\n",
       "      <td>Pedestrian</td>\n",
       "      <td>2</td>\n",
       "      <td>1</td>\n",
       "      <td>0</td>\n",
       "      <td>1</td>\n",
       "      <td>0.0</td>\n",
       "      <td>Clear</td>\n",
       "      <td>Dry</td>\n",
       "      <td>Daylight</td>\n",
       "      <td>0</td>\n",
       "      <td>1</td>\n",
       "      <td>4</td>\n",
       "    </tr>\n",
       "  </tbody>\n",
       "</table>\n",
       "<p>259505 rows × 16 columns</p>\n",
       "</div>"
      ],
      "text/plain": [
       "        SEVERITYCODE           X          Y  ADDRTYPE COLLISIONTYPE  \\\n",
       "0                  1 -122.347294  47.647172       0.0     Sideswipe   \n",
       "1                  1 -122.334540  47.607871       0.0    Parked Car   \n",
       "2                  1 -122.334803  47.604803       0.0         Other   \n",
       "3                  1 -122.387598  47.690575       1.0        Angles   \n",
       "4                  1 -122.338485  47.618534       1.0        Angles   \n",
       "...              ...         ...        ...       ...           ...   \n",
       "259500             2 -122.351191  47.517337       0.0    Rear Ended   \n",
       "259501             2 -122.287209  47.661371       1.0    Rear Ended   \n",
       "259502             2 -122.339439  47.564500       1.0     Sideswipe   \n",
       "259503             2 -122.332429  47.601720       0.0     Sideswipe   \n",
       "259504             2 -122.333993  47.708663       1.0    Pedestrian   \n",
       "\n",
       "        PERSONCOUNT  PEDCOUNT  PEDCYLCOUNT  VEHCOUNT  UNDERINFL   WEATHER  \\\n",
       "0                 2         0            0         2        0.0   Raining   \n",
       "1                 4         0            0         3        0.0  Overcast   \n",
       "2                 3         0            0         3        0.0     Clear   \n",
       "3                 2         0            0         2        0.0     Clear   \n",
       "4                 2         0            0         2        0.0   Raining   \n",
       "...             ...       ...          ...       ...        ...       ...   \n",
       "259500            4         0            0         3        0.0     Clear   \n",
       "259501            3         0            0         2        0.0   Unknown   \n",
       "259502            4         0            0         4        0.0  Overcast   \n",
       "259503            2         0            0         2        0.0     Clear   \n",
       "259504            2         1            0         1        0.0     Clear   \n",
       "\n",
       "       ROADCOND                LIGHTCOND  HITPARKEDCAR  dayofweek  HourState  \n",
       "0           Wet  Dark - Street Lights On             0          2          2  \n",
       "1           Dry                 Daylight             0          3          1  \n",
       "2           Dry                 Daylight             0          4          1  \n",
       "3           Dry                 Daylight             0          5          2  \n",
       "4           Wet                 Daylight             0          1          4  \n",
       "...         ...                      ...           ...        ...        ...  \n",
       "259500      Dry                 Daylight             0          4          2  \n",
       "259501  Unknown                 Daylight             0          1          2  \n",
       "259502      Wet                 Daylight             0          1          1  \n",
       "259503      Wet  Dark - Street Lights On             0          5          3  \n",
       "259504      Dry                 Daylight             0          1          4  \n",
       "\n",
       "[259505 rows x 16 columns]"
      ]
     },
     "execution_count": 32,
     "metadata": {},
     "output_type": "execute_result"
    }
   ],
   "source": [
    "df_over.reset_index(drop=True)"
   ]
  },
  {
   "cell_type": "markdown",
   "metadata": {},
   "source": [
    "\n",
    "Before to use one hot enconding, separate types features not object\n"
   ]
  },
  {
   "cell_type": "code",
   "execution_count": 33,
   "metadata": {},
   "outputs": [],
   "source": [
    "Features = df_over[['ADDRTYPE','PERSONCOUNT','PEDCOUNT','PEDCYLCOUNT','VEHCOUNT','UNDERINFL','HITPARKEDCAR','dayofweek','HourState']]"
   ]
  },
  {
   "cell_type": "code",
   "execution_count": 34,
   "metadata": {},
   "outputs": [
    {
     "data": {
      "text/plain": [
       "Head On        3141\n",
       "Right Turn     3765\n",
       "Cycles        11679\n",
       "Pedestrian    14515\n",
       "Left Turn     20910\n",
       "Sideswipe     21342\n",
       "Other         30054\n",
       "Parked Car    49639\n",
       "Rear Ended    51926\n",
       "Angles        52534\n",
       "Name: COLLISIONTYPE, dtype: int64"
      ]
     },
     "execution_count": 34,
     "metadata": {},
     "output_type": "execute_result"
    }
   ],
   "source": [
    "df_over.COLLISIONTYPE.value_counts().sort_values()"
   ]
  },
  {
   "cell_type": "code",
   "execution_count": 35,
   "metadata": {},
   "outputs": [
    {
     "data": {
      "text/plain": [
       "Index(['ADDRTYPE', 'PERSONCOUNT', 'PEDCOUNT', 'PEDCYLCOUNT', 'VEHCOUNT',\n",
       "       'UNDERINFL', 'HITPARKEDCAR', 'dayofweek', 'HourState', 'Angles',\n",
       "       'Cycles', 'Left Turn', 'Other', 'Parked Car', 'Pedestrian',\n",
       "       'Rear Ended', 'Sideswipe'],\n",
       "      dtype='object')"
      ]
     },
     "execution_count": 35,
     "metadata": {},
     "output_type": "execute_result"
    }
   ],
   "source": [
    "Features = pd.concat([Features,pd.get_dummies(df_over['COLLISIONTYPE'])], axis=1)\n",
    "Features.drop(['Right Turn','Head On'], axis = 1,inplace=True)\n",
    "Features.columns"
   ]
  },
  {
   "cell_type": "code",
   "execution_count": 36,
   "metadata": {},
   "outputs": [
    {
     "data": {
      "text/plain": [
       "Index(['ADDRTYPE', 'PERSONCOUNT', 'PEDCOUNT', 'PEDCYLCOUNT', 'VEHCOUNT',\n",
       "       'UNDERINFL', 'HITPARKEDCAR', 'dayofweek', 'HourState',\n",
       "       'COLLISIONTYPE ANGLES', 'COLLISIONTYPE CYCLES',\n",
       "       'COLLISIONTYPE LEFT TURN', 'COLLISIONTYPE OTHER',\n",
       "       'COLLISIONTYPE PARKED CAR', 'COLLISIONTYPE PEDESTRIAN',\n",
       "       'COLLISIONTYPE REAR ENDED', 'COLLISIONTYPE SIDESWIPE'],\n",
       "      dtype='object')"
      ]
     },
     "execution_count": 36,
     "metadata": {},
     "output_type": "execute_result"
    }
   ],
   "source": [
    "Features = Features.rename(columns={'Angles':'COLLISIONTYPE ANGLES','Parked Car':'COLLISIONTYPE PARKED CAR',\n",
    "                                    'Left Turn':'COLLISIONTYPE LEFT TURN','Other':'COLLISIONTYPE OTHER',\n",
    "                                    'Rear Ended':'COLLISIONTYPE REAR ENDED','Sideswipe':'COLLISIONTYPE SIDESWIPE',\n",
    "                                    'Pedestrian':'COLLISIONTYPE PEDESTRIAN','Cycles':'COLLISIONTYPE CYCLES'})\n",
    "Features.columns"
   ]
  },
  {
   "cell_type": "code",
   "execution_count": 37,
   "metadata": {},
   "outputs": [
    {
     "data": {
      "text/plain": [
       "Partly Cloudy                   10\n",
       "Severe Crosswind                27\n",
       "Blowing Sand/Dirt               66\n",
       "Sleet/Hail/Freezing Rain       146\n",
       "Fog/Smog/Smoke                 781\n",
       "Other                          926\n",
       "Snowing                       1094\n",
       "Unknown                      14860\n",
       "Overcast                     38560\n",
       "Raining                      46815\n",
       "Clear                       156220\n",
       "Name: WEATHER, dtype: int64"
      ]
     },
     "execution_count": 37,
     "metadata": {},
     "output_type": "execute_result"
    }
   ],
   "source": [
    "df_over.WEATHER.value_counts().sort_values()"
   ]
  },
  {
   "cell_type": "code",
   "execution_count": 38,
   "metadata": {},
   "outputs": [
    {
     "data": {
      "text/plain": [
       "Index(['ADDRTYPE', 'PERSONCOUNT', 'PEDCOUNT', 'PEDCYLCOUNT', 'VEHCOUNT',\n",
       "       'UNDERINFL', 'HITPARKEDCAR', 'dayofweek', 'HourState',\n",
       "       'COLLISIONTYPE ANGLES', 'COLLISIONTYPE CYCLES',\n",
       "       'COLLISIONTYPE LEFT TURN', 'COLLISIONTYPE OTHER',\n",
       "       'COLLISIONTYPE PARKED CAR', 'COLLISIONTYPE PEDESTRIAN',\n",
       "       'COLLISIONTYPE REAR ENDED', 'COLLISIONTYPE SIDESWIPE', 'Clear',\n",
       "       'Overcast', 'Raining', 'Unknown'],\n",
       "      dtype='object')"
      ]
     },
     "execution_count": 38,
     "metadata": {},
     "output_type": "execute_result"
    }
   ],
   "source": [
    "Features = pd.concat([Features,pd.get_dummies(df_over['WEATHER'])], axis=1)\n",
    "Features.drop(['Partly Cloudy','Severe Crosswind','Blowing Sand/Dirt','Sleet/Hail/Freezing Rain',\n",
    "              'Fog/Smog/Smoke','Snowing','Other'], axis = 1,inplace=True)\n",
    "Features.columns"
   ]
  },
  {
   "cell_type": "code",
   "execution_count": 39,
   "metadata": {},
   "outputs": [
    {
     "data": {
      "text/plain": [
       "Index(['ADDRTYPE', 'PERSONCOUNT', 'PEDCOUNT', 'PEDCYLCOUNT', 'VEHCOUNT',\n",
       "       'UNDERINFL', 'HITPARKEDCAR', 'dayofweek', 'HourState',\n",
       "       'COLLISIONTYPE ANGLES', 'COLLISIONTYPE CYCLES',\n",
       "       'COLLISIONTYPE LEFT TURN', 'COLLISIONTYPE OTHER',\n",
       "       'COLLISIONTYPE PARKED CAR', 'COLLISIONTYPE PEDESTRIAN',\n",
       "       'COLLISIONTYPE REAR ENDED', 'COLLISIONTYPE SIDESWIPE', 'WEATHER CLEAR',\n",
       "       'WEATHER OVERCAST', 'WEATHER RAINING', 'WEATHER UNKNOWN'],\n",
       "      dtype='object')"
      ]
     },
     "execution_count": 39,
     "metadata": {},
     "output_type": "execute_result"
    }
   ],
   "source": [
    "Features = Features.rename(columns={'Clear':'WEATHER CLEAR','Overcast':'WEATHER OVERCAST',\n",
    "                                    'Raining':'WEATHER RAINING','Unknown':'WEATHER UNKNOWN'})\n",
    "Features.columns"
   ]
  },
  {
   "cell_type": "code",
   "execution_count": 40,
   "metadata": {},
   "outputs": [
    {
     "data": {
      "text/plain": [
       "Oil                   92\n",
       "Sand/Mud/Dirt         94\n",
       "Standing Water       147\n",
       "Other                184\n",
       "Snow/Slush          1191\n",
       "Ice                 1515\n",
       "Unknown            14706\n",
       "Wet                66830\n",
       "Dry               174746\n",
       "Name: ROADCOND, dtype: int64"
      ]
     },
     "execution_count": 40,
     "metadata": {},
     "output_type": "execute_result"
    }
   ],
   "source": [
    "df_over.ROADCOND.value_counts().sort_values()"
   ]
  },
  {
   "cell_type": "code",
   "execution_count": 41,
   "metadata": {},
   "outputs": [
    {
     "data": {
      "text/plain": [
       "Index(['ADDRTYPE', 'PERSONCOUNT', 'PEDCOUNT', 'PEDCYLCOUNT', 'VEHCOUNT',\n",
       "       'UNDERINFL', 'HITPARKEDCAR', 'dayofweek', 'HourState',\n",
       "       'COLLISIONTYPE ANGLES', 'COLLISIONTYPE CYCLES',\n",
       "       'COLLISIONTYPE LEFT TURN', 'COLLISIONTYPE OTHER',\n",
       "       'COLLISIONTYPE PARKED CAR', 'COLLISIONTYPE PEDESTRIAN',\n",
       "       'COLLISIONTYPE REAR ENDED', 'COLLISIONTYPE SIDESWIPE', 'WEATHER CLEAR',\n",
       "       'WEATHER OVERCAST', 'WEATHER RAINING', 'WEATHER UNKNOWN', 'Dry',\n",
       "       'Unknown', 'Wet'],\n",
       "      dtype='object')"
      ]
     },
     "execution_count": 41,
     "metadata": {},
     "output_type": "execute_result"
    }
   ],
   "source": [
    "Features = pd.concat([Features,pd.get_dummies(df_over['ROADCOND'])], axis=1)\n",
    "Features.drop(['Ice','Snow/Slush','Other','Standing Water','Sand/Mud/Dirt','Oil'], axis = 1,inplace=True)\n",
    "Features.columns"
   ]
  },
  {
   "cell_type": "code",
   "execution_count": 42,
   "metadata": {},
   "outputs": [
    {
     "data": {
      "text/plain": [
       "Index(['ADDRTYPE', 'PERSONCOUNT', 'PEDCOUNT', 'PEDCYLCOUNT', 'VEHCOUNT',\n",
       "       'UNDERINFL', 'HITPARKEDCAR', 'dayofweek', 'HourState',\n",
       "       'COLLISIONTYPE ANGLES', 'COLLISIONTYPE CYCLES',\n",
       "       'COLLISIONTYPE LEFT TURN', 'COLLISIONTYPE OTHER',\n",
       "       'COLLISIONTYPE PARKED CAR', 'COLLISIONTYPE PEDESTRIAN',\n",
       "       'COLLISIONTYPE REAR ENDED', 'COLLISIONTYPE SIDESWIPE', 'WEATHER CLEAR',\n",
       "       'WEATHER OVERCAST', 'WEATHER RAINING', 'WEATHER UNKNOWN',\n",
       "       'ROADCOND DRY', 'ROADCOND UNKNOWN', 'ROADCOND WET'],\n",
       "      dtype='object')"
      ]
     },
     "execution_count": 42,
     "metadata": {},
     "output_type": "execute_result"
    }
   ],
   "source": [
    "Features = Features.rename(columns={'Dry':'ROADCOND DRY','Wet':'ROADCOND WET','Unknown':'ROADCOND UNKNOWN'})\n",
    "Features.columns"
   ]
  },
  {
   "cell_type": "code",
   "execution_count": 43,
   "metadata": {},
   "outputs": [
    {
     "data": {
      "text/plain": [
       "Dark - Unknown Lighting         12\n",
       "Other                          249\n",
       "Dark - Street Lights Off      1567\n",
       "Dark - No Street Lights       1874\n",
       "Dawn                          3549\n",
       "Dusk                          8389\n",
       "Unknown                      13166\n",
       "Dark - Street Lights On      66461\n",
       "Daylight                    164238\n",
       "Name: LIGHTCOND, dtype: int64"
      ]
     },
     "execution_count": 43,
     "metadata": {},
     "output_type": "execute_result"
    }
   ],
   "source": [
    "df_over.LIGHTCOND.value_counts().sort_values()"
   ]
  },
  {
   "cell_type": "code",
   "execution_count": 44,
   "metadata": {},
   "outputs": [
    {
     "data": {
      "text/plain": [
       "Index(['ADDRTYPE', 'PERSONCOUNT', 'PEDCOUNT', 'PEDCYLCOUNT', 'VEHCOUNT',\n",
       "       'UNDERINFL', 'HITPARKEDCAR', 'dayofweek', 'HourState',\n",
       "       'COLLISIONTYPE ANGLES', 'COLLISIONTYPE CYCLES',\n",
       "       'COLLISIONTYPE LEFT TURN', 'COLLISIONTYPE OTHER',\n",
       "       'COLLISIONTYPE PARKED CAR', 'COLLISIONTYPE PEDESTRIAN',\n",
       "       'COLLISIONTYPE REAR ENDED', 'COLLISIONTYPE SIDESWIPE', 'WEATHER CLEAR',\n",
       "       'WEATHER OVERCAST', 'WEATHER RAINING', 'WEATHER UNKNOWN',\n",
       "       'ROADCOND DRY', 'ROADCOND UNKNOWN', 'ROADCOND WET',\n",
       "       'Dark - Street Lights On', 'Daylight', 'Dusk', 'Unknown'],\n",
       "      dtype='object')"
      ]
     },
     "execution_count": 44,
     "metadata": {},
     "output_type": "execute_result"
    }
   ],
   "source": [
    "Features = pd.concat([Features,pd.get_dummies(df_over['LIGHTCOND'])], axis=1)\n",
    "Features.drop(['Dawn','Dark - No Street Lights','Dark - Street Lights Off','Other',\n",
    "               'Dark - Unknown Lighting'], axis = 1,inplace=True)\n",
    "Features.columns"
   ]
  },
  {
   "cell_type": "code",
   "execution_count": 45,
   "metadata": {},
   "outputs": [
    {
     "data": {
      "text/plain": [
       "Index(['ADDRTYPE', 'PERSONCOUNT', 'PEDCOUNT', 'PEDCYLCOUNT', 'VEHCOUNT',\n",
       "       'UNDERINFL', 'HITPARKEDCAR', 'dayofweek', 'HourState',\n",
       "       'COLLISIONTYPE ANGLES', 'COLLISIONTYPE CYCLES',\n",
       "       'COLLISIONTYPE LEFT TURN', 'COLLISIONTYPE OTHER',\n",
       "       'COLLISIONTYPE PARKED CAR', 'COLLISIONTYPE PEDESTRIAN',\n",
       "       'COLLISIONTYPE REAR ENDED', 'COLLISIONTYPE SIDESWIPE', 'WEATHER CLEAR',\n",
       "       'WEATHER OVERCAST', 'WEATHER RAINING', 'WEATHER UNKNOWN',\n",
       "       'ROADCOND DRY', 'ROADCOND UNKNOWN', 'ROADCOND WET',\n",
       "       'LIGHTCOND DARK-STREET LIGHTS ON', 'LIGHTCOND WET', 'LIGHTCOND DUSK',\n",
       "       'LIGHTCOND UNKNOWN'],\n",
       "      dtype='object')"
      ]
     },
     "execution_count": 45,
     "metadata": {},
     "output_type": "execute_result"
    }
   ],
   "source": [
    "Features = Features.rename(columns={'Dark - Street Lights On':'LIGHTCOND DARK-STREET LIGHTS ON',\n",
    "                                    'Dusk':'LIGHTCOND DUSK','Daylight':'LIGHTCOND WET','Unknown':'LIGHTCOND UNKNOWN'})\n",
    "Features.columns"
   ]
  },
  {
   "cell_type": "markdown",
   "metadata": {},
   "source": [
    "Others *rename* columns"
   ]
  },
  {
   "cell_type": "code",
   "execution_count": 46,
   "metadata": {},
   "outputs": [
    {
     "data": {
      "text/plain": [
       "Index(['ADDRTYPE', 'PERSONCOUNT', 'PEDCOUNT', 'PEDCYLCOUNT', 'VEHCOUNT',\n",
       "       'UNDERINFL', 'HITPARKEDCAR', 'DAYOFWEEK', 'HOURSTATE',\n",
       "       'COLLISIONTYPE ANGLES', 'COLLISIONTYPE CYCLES',\n",
       "       'COLLISIONTYPE LEFT TURN', 'COLLISIONTYPE OTHER',\n",
       "       'COLLISIONTYPE PARKED CAR', 'COLLISIONTYPE PEDESTRIAN',\n",
       "       'COLLISIONTYPE REAR ENDED', 'COLLISIONTYPE SIDESWIPE', 'WEATHER CLEAR',\n",
       "       'WEATHER OVERCAST', 'WEATHER RAINING', 'WEATHER UNKNOWN',\n",
       "       'ROADCOND DRY', 'ROADCOND UNKNOWN', 'ROADCOND WET',\n",
       "       'LIGHTCOND DARK-STREET LIGHTS ON', 'LIGHTCOND WET', 'LIGHTCOND DUSK',\n",
       "       'LIGHTCOND UNKNOWN'],\n",
       "      dtype='object')"
      ]
     },
     "execution_count": 46,
     "metadata": {},
     "output_type": "execute_result"
    }
   ],
   "source": [
    "Features = Features.rename(columns={'dayofweek':'DAYOFWEEK','HourState':'HOURSTATE','X':'LONGITUDE','Y':'LATITUDE'})\n",
    "Features.columns"
   ]
  },
  {
   "cell_type": "markdown",
   "metadata": {},
   "source": [
    "\n",
    "Lets defind feature sets, X:\n"
   ]
  },
  {
   "cell_type": "code",
   "execution_count": 47,
   "metadata": {
    "scrolled": false
   },
   "outputs": [
    {
     "data": {
      "text/html": [
       "<div>\n",
       "<style scoped>\n",
       "    .dataframe tbody tr th:only-of-type {\n",
       "        vertical-align: middle;\n",
       "    }\n",
       "\n",
       "    .dataframe tbody tr th {\n",
       "        vertical-align: top;\n",
       "    }\n",
       "\n",
       "    .dataframe thead th {\n",
       "        text-align: right;\n",
       "    }\n",
       "</style>\n",
       "<table border=\"1\" class=\"dataframe\">\n",
       "  <thead>\n",
       "    <tr style=\"text-align: right;\">\n",
       "      <th></th>\n",
       "      <th>ADDRTYPE</th>\n",
       "      <th>PERSONCOUNT</th>\n",
       "      <th>PEDCOUNT</th>\n",
       "      <th>PEDCYLCOUNT</th>\n",
       "      <th>VEHCOUNT</th>\n",
       "      <th>UNDERINFL</th>\n",
       "      <th>HITPARKEDCAR</th>\n",
       "      <th>DAYOFWEEK</th>\n",
       "      <th>HOURSTATE</th>\n",
       "      <th>COLLISIONTYPE ANGLES</th>\n",
       "      <th>...</th>\n",
       "      <th>WEATHER OVERCAST</th>\n",
       "      <th>WEATHER RAINING</th>\n",
       "      <th>WEATHER UNKNOWN</th>\n",
       "      <th>ROADCOND DRY</th>\n",
       "      <th>ROADCOND UNKNOWN</th>\n",
       "      <th>ROADCOND WET</th>\n",
       "      <th>LIGHTCOND DARK-STREET LIGHTS ON</th>\n",
       "      <th>LIGHTCOND WET</th>\n",
       "      <th>LIGHTCOND DUSK</th>\n",
       "      <th>LIGHTCOND UNKNOWN</th>\n",
       "    </tr>\n",
       "  </thead>\n",
       "  <tbody>\n",
       "    <tr>\n",
       "      <th>count</th>\n",
       "      <td>259505.000000</td>\n",
       "      <td>259505.000000</td>\n",
       "      <td>259505.00000</td>\n",
       "      <td>259505.000000</td>\n",
       "      <td>259505.000000</td>\n",
       "      <td>259505.000000</td>\n",
       "      <td>259505.000000</td>\n",
       "      <td>259505.000000</td>\n",
       "      <td>259505.000000</td>\n",
       "      <td>259505.000000</td>\n",
       "      <td>...</td>\n",
       "      <td>259505.000000</td>\n",
       "      <td>259505.000000</td>\n",
       "      <td>259505.000000</td>\n",
       "      <td>259505.000000</td>\n",
       "      <td>259505.000000</td>\n",
       "      <td>259505.000000</td>\n",
       "      <td>259505.000000</td>\n",
       "      <td>259505.000000</td>\n",
       "      <td>259505.000000</td>\n",
       "      <td>259505.000000</td>\n",
       "    </tr>\n",
       "    <tr>\n",
       "      <th>mean</th>\n",
       "      <td>0.385804</td>\n",
       "      <td>2.543978</td>\n",
       "      <td>0.06117</td>\n",
       "      <td>0.045891</td>\n",
       "      <td>1.951446</td>\n",
       "      <td>0.052727</td>\n",
       "      <td>0.027818</td>\n",
       "      <td>2.929651</td>\n",
       "      <td>2.431610</td>\n",
       "      <td>0.202439</td>\n",
       "      <td>...</td>\n",
       "      <td>0.148591</td>\n",
       "      <td>0.180401</td>\n",
       "      <td>0.057263</td>\n",
       "      <td>0.673382</td>\n",
       "      <td>0.056669</td>\n",
       "      <td>0.257529</td>\n",
       "      <td>0.256107</td>\n",
       "      <td>0.632890</td>\n",
       "      <td>0.032327</td>\n",
       "      <td>0.050735</td>\n",
       "    </tr>\n",
       "    <tr>\n",
       "      <th>std</th>\n",
       "      <td>0.486786</td>\n",
       "      <td>1.430098</td>\n",
       "      <td>0.25103</td>\n",
       "      <td>0.211229</td>\n",
       "      <td>0.604041</td>\n",
       "      <td>0.223489</td>\n",
       "      <td>0.164452</td>\n",
       "      <td>1.920233</td>\n",
       "      <td>1.185183</td>\n",
       "      <td>0.401819</td>\n",
       "      <td>...</td>\n",
       "      <td>0.355685</td>\n",
       "      <td>0.384522</td>\n",
       "      <td>0.232345</td>\n",
       "      <td>0.468977</td>\n",
       "      <td>0.231210</td>\n",
       "      <td>0.437274</td>\n",
       "      <td>0.436482</td>\n",
       "      <td>0.482018</td>\n",
       "      <td>0.176867</td>\n",
       "      <td>0.219457</td>\n",
       "    </tr>\n",
       "    <tr>\n",
       "      <th>min</th>\n",
       "      <td>0.000000</td>\n",
       "      <td>0.000000</td>\n",
       "      <td>0.00000</td>\n",
       "      <td>0.000000</td>\n",
       "      <td>0.000000</td>\n",
       "      <td>0.000000</td>\n",
       "      <td>0.000000</td>\n",
       "      <td>0.000000</td>\n",
       "      <td>1.000000</td>\n",
       "      <td>0.000000</td>\n",
       "      <td>...</td>\n",
       "      <td>0.000000</td>\n",
       "      <td>0.000000</td>\n",
       "      <td>0.000000</td>\n",
       "      <td>0.000000</td>\n",
       "      <td>0.000000</td>\n",
       "      <td>0.000000</td>\n",
       "      <td>0.000000</td>\n",
       "      <td>0.000000</td>\n",
       "      <td>0.000000</td>\n",
       "      <td>0.000000</td>\n",
       "    </tr>\n",
       "    <tr>\n",
       "      <th>25%</th>\n",
       "      <td>0.000000</td>\n",
       "      <td>2.000000</td>\n",
       "      <td>0.00000</td>\n",
       "      <td>0.000000</td>\n",
       "      <td>2.000000</td>\n",
       "      <td>0.000000</td>\n",
       "      <td>0.000000</td>\n",
       "      <td>1.000000</td>\n",
       "      <td>2.000000</td>\n",
       "      <td>0.000000</td>\n",
       "      <td>...</td>\n",
       "      <td>0.000000</td>\n",
       "      <td>0.000000</td>\n",
       "      <td>0.000000</td>\n",
       "      <td>0.000000</td>\n",
       "      <td>0.000000</td>\n",
       "      <td>0.000000</td>\n",
       "      <td>0.000000</td>\n",
       "      <td>0.000000</td>\n",
       "      <td>0.000000</td>\n",
       "      <td>0.000000</td>\n",
       "    </tr>\n",
       "    <tr>\n",
       "      <th>50%</th>\n",
       "      <td>0.000000</td>\n",
       "      <td>2.000000</td>\n",
       "      <td>0.00000</td>\n",
       "      <td>0.000000</td>\n",
       "      <td>2.000000</td>\n",
       "      <td>0.000000</td>\n",
       "      <td>0.000000</td>\n",
       "      <td>3.000000</td>\n",
       "      <td>2.000000</td>\n",
       "      <td>0.000000</td>\n",
       "      <td>...</td>\n",
       "      <td>0.000000</td>\n",
       "      <td>0.000000</td>\n",
       "      <td>0.000000</td>\n",
       "      <td>1.000000</td>\n",
       "      <td>0.000000</td>\n",
       "      <td>0.000000</td>\n",
       "      <td>0.000000</td>\n",
       "      <td>1.000000</td>\n",
       "      <td>0.000000</td>\n",
       "      <td>0.000000</td>\n",
       "    </tr>\n",
       "    <tr>\n",
       "      <th>75%</th>\n",
       "      <td>1.000000</td>\n",
       "      <td>3.000000</td>\n",
       "      <td>0.00000</td>\n",
       "      <td>0.000000</td>\n",
       "      <td>2.000000</td>\n",
       "      <td>0.000000</td>\n",
       "      <td>0.000000</td>\n",
       "      <td>5.000000</td>\n",
       "      <td>3.000000</td>\n",
       "      <td>0.000000</td>\n",
       "      <td>...</td>\n",
       "      <td>0.000000</td>\n",
       "      <td>0.000000</td>\n",
       "      <td>0.000000</td>\n",
       "      <td>1.000000</td>\n",
       "      <td>0.000000</td>\n",
       "      <td>1.000000</td>\n",
       "      <td>1.000000</td>\n",
       "      <td>1.000000</td>\n",
       "      <td>0.000000</td>\n",
       "      <td>0.000000</td>\n",
       "    </tr>\n",
       "    <tr>\n",
       "      <th>max</th>\n",
       "      <td>1.000000</td>\n",
       "      <td>81.000000</td>\n",
       "      <td>6.00000</td>\n",
       "      <td>2.000000</td>\n",
       "      <td>12.000000</td>\n",
       "      <td>1.000000</td>\n",
       "      <td>1.000000</td>\n",
       "      <td>6.000000</td>\n",
       "      <td>5.000000</td>\n",
       "      <td>1.000000</td>\n",
       "      <td>...</td>\n",
       "      <td>1.000000</td>\n",
       "      <td>1.000000</td>\n",
       "      <td>1.000000</td>\n",
       "      <td>1.000000</td>\n",
       "      <td>1.000000</td>\n",
       "      <td>1.000000</td>\n",
       "      <td>1.000000</td>\n",
       "      <td>1.000000</td>\n",
       "      <td>1.000000</td>\n",
       "      <td>1.000000</td>\n",
       "    </tr>\n",
       "  </tbody>\n",
       "</table>\n",
       "<p>8 rows × 28 columns</p>\n",
       "</div>"
      ],
      "text/plain": [
       "            ADDRTYPE    PERSONCOUNT      PEDCOUNT    PEDCYLCOUNT  \\\n",
       "count  259505.000000  259505.000000  259505.00000  259505.000000   \n",
       "mean        0.385804       2.543978       0.06117       0.045891   \n",
       "std         0.486786       1.430098       0.25103       0.211229   \n",
       "min         0.000000       0.000000       0.00000       0.000000   \n",
       "25%         0.000000       2.000000       0.00000       0.000000   \n",
       "50%         0.000000       2.000000       0.00000       0.000000   \n",
       "75%         1.000000       3.000000       0.00000       0.000000   \n",
       "max         1.000000      81.000000       6.00000       2.000000   \n",
       "\n",
       "            VEHCOUNT      UNDERINFL   HITPARKEDCAR      DAYOFWEEK  \\\n",
       "count  259505.000000  259505.000000  259505.000000  259505.000000   \n",
       "mean        1.951446       0.052727       0.027818       2.929651   \n",
       "std         0.604041       0.223489       0.164452       1.920233   \n",
       "min         0.000000       0.000000       0.000000       0.000000   \n",
       "25%         2.000000       0.000000       0.000000       1.000000   \n",
       "50%         2.000000       0.000000       0.000000       3.000000   \n",
       "75%         2.000000       0.000000       0.000000       5.000000   \n",
       "max        12.000000       1.000000       1.000000       6.000000   \n",
       "\n",
       "           HOURSTATE  COLLISIONTYPE ANGLES  ...  WEATHER OVERCAST  \\\n",
       "count  259505.000000         259505.000000  ...     259505.000000   \n",
       "mean        2.431610              0.202439  ...          0.148591   \n",
       "std         1.185183              0.401819  ...          0.355685   \n",
       "min         1.000000              0.000000  ...          0.000000   \n",
       "25%         2.000000              0.000000  ...          0.000000   \n",
       "50%         2.000000              0.000000  ...          0.000000   \n",
       "75%         3.000000              0.000000  ...          0.000000   \n",
       "max         5.000000              1.000000  ...          1.000000   \n",
       "\n",
       "       WEATHER RAINING  WEATHER UNKNOWN   ROADCOND DRY  ROADCOND UNKNOWN  \\\n",
       "count    259505.000000    259505.000000  259505.000000     259505.000000   \n",
       "mean          0.180401         0.057263       0.673382          0.056669   \n",
       "std           0.384522         0.232345       0.468977          0.231210   \n",
       "min           0.000000         0.000000       0.000000          0.000000   \n",
       "25%           0.000000         0.000000       0.000000          0.000000   \n",
       "50%           0.000000         0.000000       1.000000          0.000000   \n",
       "75%           0.000000         0.000000       1.000000          0.000000   \n",
       "max           1.000000         1.000000       1.000000          1.000000   \n",
       "\n",
       "        ROADCOND WET  LIGHTCOND DARK-STREET LIGHTS ON  LIGHTCOND WET  \\\n",
       "count  259505.000000                    259505.000000  259505.000000   \n",
       "mean        0.257529                         0.256107       0.632890   \n",
       "std         0.437274                         0.436482       0.482018   \n",
       "min         0.000000                         0.000000       0.000000   \n",
       "25%         0.000000                         0.000000       0.000000   \n",
       "50%         0.000000                         0.000000       1.000000   \n",
       "75%         1.000000                         1.000000       1.000000   \n",
       "max         1.000000                         1.000000       1.000000   \n",
       "\n",
       "       LIGHTCOND DUSK  LIGHTCOND UNKNOWN  \n",
       "count   259505.000000      259505.000000  \n",
       "mean         0.032327           0.050735  \n",
       "std          0.176867           0.219457  \n",
       "min          0.000000           0.000000  \n",
       "25%          0.000000           0.000000  \n",
       "50%          0.000000           0.000000  \n",
       "75%          0.000000           0.000000  \n",
       "max          1.000000           1.000000  \n",
       "\n",
       "[8 rows x 28 columns]"
      ]
     },
     "execution_count": 47,
     "metadata": {},
     "output_type": "execute_result"
    }
   ],
   "source": [
    "Features.describe(include='all')"
   ]
  },
  {
   "cell_type": "markdown",
   "metadata": {},
   "source": [
    "\n",
    "We see two columns with possible null values\n"
   ]
  },
  {
   "cell_type": "code",
   "execution_count": 48,
   "metadata": {},
   "outputs": [
    {
     "data": {
      "text/plain": [
       "{0.0, 1.0}"
      ]
     },
     "execution_count": 48,
     "metadata": {},
     "output_type": "execute_result"
    }
   ],
   "source": [
    "set(Features['ADDRTYPE'].unique())"
   ]
  },
  {
   "cell_type": "code",
   "execution_count": 49,
   "metadata": {},
   "outputs": [
    {
     "data": {
      "text/plain": [
       "{0.0, 1.0}"
      ]
     },
     "execution_count": 49,
     "metadata": {},
     "output_type": "execute_result"
    }
   ],
   "source": [
    "Features['ADDRTYPE'].dropna(inplace=True)\n",
    "set(Features['ADDRTYPE'].unique())"
   ]
  },
  {
   "cell_type": "code",
   "execution_count": 50,
   "metadata": {},
   "outputs": [
    {
     "data": {
      "text/plain": [
       "{0.0, 1.0}"
      ]
     },
     "execution_count": 50,
     "metadata": {},
     "output_type": "execute_result"
    }
   ],
   "source": [
    "set(Features['UNDERINFL'].unique())"
   ]
  },
  {
   "cell_type": "code",
   "execution_count": 51,
   "metadata": {},
   "outputs": [
    {
     "data": {
      "text/plain": [
       "{0.0, 1.0}"
      ]
     },
     "execution_count": 51,
     "metadata": {},
     "output_type": "execute_result"
    }
   ],
   "source": [
    "Features['UNDERINFL'].dropna(inplace=True)\n",
    "set(Features['UNDERINFL'].unique())"
   ]
  },
  {
   "cell_type": "code",
   "execution_count": 52,
   "metadata": {},
   "outputs": [
    {
     "data": {
      "text/plain": [
       "Index(['ADDRTYPE', 'PERSONCOUNT', 'PEDCOUNT', 'PEDCYLCOUNT', 'VEHCOUNT',\n",
       "       'UNDERINFL', 'HITPARKEDCAR', 'DAYOFWEEK', 'HOURSTATE',\n",
       "       'COLLISIONTYPE ANGLES', 'COLLISIONTYPE CYCLES',\n",
       "       'COLLISIONTYPE LEFT TURN', 'COLLISIONTYPE OTHER',\n",
       "       'COLLISIONTYPE PARKED CAR', 'COLLISIONTYPE PEDESTRIAN',\n",
       "       'COLLISIONTYPE REAR ENDED', 'COLLISIONTYPE SIDESWIPE', 'WEATHER CLEAR',\n",
       "       'WEATHER OVERCAST', 'WEATHER RAINING', 'WEATHER UNKNOWN',\n",
       "       'ROADCOND DRY', 'ROADCOND UNKNOWN', 'ROADCOND WET',\n",
       "       'LIGHTCOND DARK-STREET LIGHTS ON', 'LIGHTCOND WET', 'LIGHTCOND DUSK',\n",
       "       'LIGHTCOND UNKNOWN'],\n",
       "      dtype='object')"
      ]
     },
     "execution_count": 52,
     "metadata": {},
     "output_type": "execute_result"
    }
   ],
   "source": [
    "Features.columns"
   ]
  },
  {
   "cell_type": "code",
   "execution_count": 53,
   "metadata": {},
   "outputs": [
    {
     "data": {
      "text/plain": [
       "{0, 1}"
      ]
     },
     "execution_count": 53,
     "metadata": {},
     "output_type": "execute_result"
    }
   ],
   "source": [
    "set(Features['LIGHTCOND UNKNOWN'].unique())"
   ]
  },
  {
   "cell_type": "markdown",
   "metadata": {},
   "source": [
    "\n",
    "Lets defind feature sets, X:"
   ]
  },
  {
   "cell_type": "code",
   "execution_count": 54,
   "metadata": {},
   "outputs": [
    {
     "data": {
      "text/html": [
       "<div>\n",
       "<style scoped>\n",
       "    .dataframe tbody tr th:only-of-type {\n",
       "        vertical-align: middle;\n",
       "    }\n",
       "\n",
       "    .dataframe tbody tr th {\n",
       "        vertical-align: top;\n",
       "    }\n",
       "\n",
       "    .dataframe thead th {\n",
       "        text-align: right;\n",
       "    }\n",
       "</style>\n",
       "<table border=\"1\" class=\"dataframe\">\n",
       "  <thead>\n",
       "    <tr style=\"text-align: right;\">\n",
       "      <th></th>\n",
       "      <th>ADDRTYPE</th>\n",
       "      <th>PERSONCOUNT</th>\n",
       "      <th>PEDCOUNT</th>\n",
       "      <th>PEDCYLCOUNT</th>\n",
       "      <th>VEHCOUNT</th>\n",
       "      <th>UNDERINFL</th>\n",
       "      <th>HITPARKEDCAR</th>\n",
       "      <th>DAYOFWEEK</th>\n",
       "      <th>HOURSTATE</th>\n",
       "      <th>COLLISIONTYPE ANGLES</th>\n",
       "      <th>...</th>\n",
       "      <th>WEATHER OVERCAST</th>\n",
       "      <th>WEATHER RAINING</th>\n",
       "      <th>WEATHER UNKNOWN</th>\n",
       "      <th>ROADCOND DRY</th>\n",
       "      <th>ROADCOND UNKNOWN</th>\n",
       "      <th>ROADCOND WET</th>\n",
       "      <th>LIGHTCOND DARK-STREET LIGHTS ON</th>\n",
       "      <th>LIGHTCOND WET</th>\n",
       "      <th>LIGHTCOND DUSK</th>\n",
       "      <th>LIGHTCOND UNKNOWN</th>\n",
       "    </tr>\n",
       "  </thead>\n",
       "  <tbody>\n",
       "    <tr>\n",
       "      <th>1</th>\n",
       "      <td>0.0</td>\n",
       "      <td>2</td>\n",
       "      <td>0</td>\n",
       "      <td>0</td>\n",
       "      <td>2</td>\n",
       "      <td>0.0</td>\n",
       "      <td>0</td>\n",
       "      <td>2</td>\n",
       "      <td>2</td>\n",
       "      <td>0</td>\n",
       "      <td>...</td>\n",
       "      <td>0</td>\n",
       "      <td>1</td>\n",
       "      <td>0</td>\n",
       "      <td>0</td>\n",
       "      <td>0</td>\n",
       "      <td>1</td>\n",
       "      <td>1</td>\n",
       "      <td>0</td>\n",
       "      <td>0</td>\n",
       "      <td>0</td>\n",
       "    </tr>\n",
       "    <tr>\n",
       "      <th>2</th>\n",
       "      <td>0.0</td>\n",
       "      <td>4</td>\n",
       "      <td>0</td>\n",
       "      <td>0</td>\n",
       "      <td>3</td>\n",
       "      <td>0.0</td>\n",
       "      <td>0</td>\n",
       "      <td>3</td>\n",
       "      <td>1</td>\n",
       "      <td>0</td>\n",
       "      <td>...</td>\n",
       "      <td>1</td>\n",
       "      <td>0</td>\n",
       "      <td>0</td>\n",
       "      <td>1</td>\n",
       "      <td>0</td>\n",
       "      <td>0</td>\n",
       "      <td>0</td>\n",
       "      <td>1</td>\n",
       "      <td>0</td>\n",
       "      <td>0</td>\n",
       "    </tr>\n",
       "    <tr>\n",
       "      <th>3</th>\n",
       "      <td>0.0</td>\n",
       "      <td>3</td>\n",
       "      <td>0</td>\n",
       "      <td>0</td>\n",
       "      <td>3</td>\n",
       "      <td>0.0</td>\n",
       "      <td>0</td>\n",
       "      <td>4</td>\n",
       "      <td>1</td>\n",
       "      <td>0</td>\n",
       "      <td>...</td>\n",
       "      <td>0</td>\n",
       "      <td>0</td>\n",
       "      <td>0</td>\n",
       "      <td>1</td>\n",
       "      <td>0</td>\n",
       "      <td>0</td>\n",
       "      <td>0</td>\n",
       "      <td>1</td>\n",
       "      <td>0</td>\n",
       "      <td>0</td>\n",
       "    </tr>\n",
       "    <tr>\n",
       "      <th>5</th>\n",
       "      <td>1.0</td>\n",
       "      <td>2</td>\n",
       "      <td>0</td>\n",
       "      <td>0</td>\n",
       "      <td>2</td>\n",
       "      <td>0.0</td>\n",
       "      <td>0</td>\n",
       "      <td>5</td>\n",
       "      <td>2</td>\n",
       "      <td>1</td>\n",
       "      <td>...</td>\n",
       "      <td>0</td>\n",
       "      <td>0</td>\n",
       "      <td>0</td>\n",
       "      <td>1</td>\n",
       "      <td>0</td>\n",
       "      <td>0</td>\n",
       "      <td>0</td>\n",
       "      <td>1</td>\n",
       "      <td>0</td>\n",
       "      <td>0</td>\n",
       "    </tr>\n",
       "    <tr>\n",
       "      <th>6</th>\n",
       "      <td>1.0</td>\n",
       "      <td>2</td>\n",
       "      <td>0</td>\n",
       "      <td>0</td>\n",
       "      <td>2</td>\n",
       "      <td>0.0</td>\n",
       "      <td>0</td>\n",
       "      <td>1</td>\n",
       "      <td>4</td>\n",
       "      <td>1</td>\n",
       "      <td>...</td>\n",
       "      <td>0</td>\n",
       "      <td>1</td>\n",
       "      <td>0</td>\n",
       "      <td>0</td>\n",
       "      <td>0</td>\n",
       "      <td>1</td>\n",
       "      <td>0</td>\n",
       "      <td>1</td>\n",
       "      <td>0</td>\n",
       "      <td>0</td>\n",
       "    </tr>\n",
       "  </tbody>\n",
       "</table>\n",
       "<p>5 rows × 28 columns</p>\n",
       "</div>"
      ],
      "text/plain": [
       "   ADDRTYPE  PERSONCOUNT  PEDCOUNT  PEDCYLCOUNT  VEHCOUNT  UNDERINFL  \\\n",
       "1       0.0            2         0            0         2        0.0   \n",
       "2       0.0            4         0            0         3        0.0   \n",
       "3       0.0            3         0            0         3        0.0   \n",
       "5       1.0            2         0            0         2        0.0   \n",
       "6       1.0            2         0            0         2        0.0   \n",
       "\n",
       "   HITPARKEDCAR  DAYOFWEEK  HOURSTATE  COLLISIONTYPE ANGLES  ...  \\\n",
       "1             0          2          2                     0  ...   \n",
       "2             0          3          1                     0  ...   \n",
       "3             0          4          1                     0  ...   \n",
       "5             0          5          2                     1  ...   \n",
       "6             0          1          4                     1  ...   \n",
       "\n",
       "   WEATHER OVERCAST  WEATHER RAINING  WEATHER UNKNOWN  ROADCOND DRY  \\\n",
       "1                 0                1                0             0   \n",
       "2                 1                0                0             1   \n",
       "3                 0                0                0             1   \n",
       "5                 0                0                0             1   \n",
       "6                 0                1                0             0   \n",
       "\n",
       "   ROADCOND UNKNOWN  ROADCOND WET  LIGHTCOND DARK-STREET LIGHTS ON  \\\n",
       "1                 0             1                                1   \n",
       "2                 0             0                                0   \n",
       "3                 0             0                                0   \n",
       "5                 0             0                                0   \n",
       "6                 0             1                                0   \n",
       "\n",
       "   LIGHTCOND WET  LIGHTCOND DUSK  LIGHTCOND UNKNOWN  \n",
       "1              0               0                  0  \n",
       "2              1               0                  0  \n",
       "3              1               0                  0  \n",
       "5              1               0                  0  \n",
       "6              1               0                  0  \n",
       "\n",
       "[5 rows x 28 columns]"
      ]
     },
     "execution_count": 54,
     "metadata": {},
     "output_type": "execute_result"
    }
   ],
   "source": [
    "X = Features\n",
    "X[0:5]"
   ]
  },
  {
   "cell_type": "markdown",
   "metadata": {},
   "source": [
    "\n",
    "What are our lables?"
   ]
  },
  {
   "cell_type": "code",
   "execution_count": 55,
   "metadata": {},
   "outputs": [
    {
     "data": {
      "text/plain": [
       "array([1, 1, 1, 1, 1], dtype=int64)"
      ]
     },
     "execution_count": 55,
     "metadata": {},
     "output_type": "execute_result"
    }
   ],
   "source": [
    "y=df_over['SEVERITYCODE'].values\n",
    "y[0:5]"
   ]
  },
  {
   "cell_type": "code",
   "execution_count": 56,
   "metadata": {},
   "outputs": [
    {
     "data": {
      "text/plain": [
       "{1, 2}"
      ]
     },
     "execution_count": 56,
     "metadata": {},
     "output_type": "execute_result"
    }
   ],
   "source": [
    "set(y)"
   ]
  },
  {
   "cell_type": "code",
   "execution_count": 57,
   "metadata": {},
   "outputs": [
    {
     "data": {
      "text/plain": [
       "((259505, 28), (259505,))"
      ]
     },
     "execution_count": 57,
     "metadata": {},
     "output_type": "execute_result"
    }
   ],
   "source": [
    "X.shape, y.shape"
   ]
  },
  {
   "cell_type": "markdown",
   "metadata": {},
   "source": [
    "Great! We have Our Dataset with 272,970 Collisions information and 28 Features"
   ]
  },
  {
   "cell_type": "markdown",
   "metadata": {},
   "source": [
    "## Methodology <a name=\"methodology\"></a>"
   ]
  },
  {
   "cell_type": "markdown",
   "metadata": {},
   "source": [
    "\n",
    "The methodology used is the traditional one of normalizing the values ​​of the characteristics, then separating them into training and validation sets. For this we will use 20% of the data for validation.\n",
    "\n",
    "As it is a classification problem, then we will use the Logistic Regression as the main alternative, the KNN, SVM and Decission Tree version will still be commented (These will not be touched due to execution time)."
   ]
  },
  {
   "cell_type": "markdown",
   "metadata": {},
   "source": [
    "## Normalize Data "
   ]
  },
  {
   "cell_type": "markdown",
   "metadata": {},
   "source": [
    "Data Standardization give data zero mean and unit variance (technically should be done after train test split )"
   ]
  },
  {
   "cell_type": "code",
   "execution_count": 58,
   "metadata": {},
   "outputs": [
    {
     "data": {
      "text/plain": [
       "array([[-0.79255541, -0.38037887, -0.24367727, -0.21725843,  0.08038201,\n",
       "        -0.23592844, -0.16915777, -0.48413525, -0.36417249, -0.50380849,\n",
       "        -0.21708479, -0.29603724, -0.36191465, -0.48634054, -0.24340772,\n",
       "        -0.50015052,  3.3405624 , -1.22984305, -0.41775959,  2.13147882,\n",
       "        -0.24645704, -1.43585541, -0.24509952,  1.69795804,  1.7042948 ,\n",
       "        -1.31300258, -0.18277547, -0.23118537],\n",
       "       [-0.79255541,  1.01812953, -0.24367727, -0.21725843,  1.7359006 ,\n",
       "        -0.23592844, -0.16915777,  0.0366359 , -1.20792575, -0.50380849,\n",
       "        -0.21708479, -0.29603724, -0.36191465,  2.05617242, -0.24340772,\n",
       "        -0.50015052, -0.29935079, -1.22984305,  2.39372126, -0.46915784,\n",
       "        -0.24645704,  0.69644895, -0.24509952, -0.58894271, -0.58675295,\n",
       "         0.76161313, -0.18277547, -0.23118537],\n",
       "       [-0.79255541,  0.31887533, -0.24367727, -0.21725843,  1.7359006 ,\n",
       "        -0.23592844, -0.16915777,  0.55740705, -1.20792575, -0.50380849,\n",
       "        -0.21708479, -0.29603724,  2.7630824 , -0.48634054, -0.24340772,\n",
       "        -0.50015052, -0.29935079,  0.81311189, -0.41775959, -0.46915784,\n",
       "        -0.24645704,  0.69644895, -0.24509952, -0.58894271, -0.58675295,\n",
       "         0.76161313, -0.18277547, -0.23118537],\n",
       "       [ 1.26174144, -0.38037887, -0.24367727, -0.21725843,  0.08038201,\n",
       "        -0.23592844, -0.16915777,  1.0781782 , -0.36417249,  1.98488118,\n",
       "        -0.21708479, -0.29603724, -0.36191465, -0.48634054, -0.24340772,\n",
       "        -0.50015052, -0.29935079,  0.81311189, -0.41775959, -0.46915784,\n",
       "        -0.24645704,  0.69644895, -0.24509952, -0.58894271, -0.58675295,\n",
       "         0.76161313, -0.18277547, -0.23118537],\n",
       "       [ 1.26174144, -0.38037887, -0.24367727, -0.21725843,  0.08038201,\n",
       "        -0.23592844, -0.16915777, -1.0049064 ,  1.32333401,  1.98488118,\n",
       "        -0.21708479, -0.29603724, -0.36191465, -0.48634054, -0.24340772,\n",
       "        -0.50015052, -0.29935079, -1.22984305, -0.41775959,  2.13147882,\n",
       "        -0.24645704, -1.43585541, -0.24509952,  1.69795804, -0.58675295,\n",
       "         0.76161313, -0.18277547, -0.23118537]])"
      ]
     },
     "execution_count": 58,
     "metadata": {},
     "output_type": "execute_result"
    }
   ],
   "source": [
    "from sklearn import preprocessing\n",
    "X= preprocessing.StandardScaler().fit(X).transform(X)\n",
    "X[0:5]"
   ]
  },
  {
   "cell_type": "markdown",
   "metadata": {},
   "source": [
    "# Classification "
   ]
  },
  {
   "cell_type": "markdown",
   "metadata": {},
   "source": [
    "\n",
    "We will use 20% of our data for the validation set."
   ]
  },
  {
   "cell_type": "code",
   "execution_count": 59,
   "metadata": {},
   "outputs": [
    {
     "name": "stdout",
     "output_type": "stream",
     "text": [
      "Train set: (207604, 28) (207604,)\n",
      "Test set: (51901, 28) (51901,)\n"
     ]
    }
   ],
   "source": [
    "from sklearn.model_selection import train_test_split\n",
    "from sklearn.neighbors import KNeighborsClassifier\n",
    "from sklearn import metrics\n",
    "X_train, X_test, y_train, y_test = train_test_split( X, y, test_size=0.2, random_state=4)\n",
    "print ('Train set:', X_train.shape,  y_train.shape)\n",
    "print ('Test set:', X_test.shape,  y_test.shape)"
   ]
  },
  {
   "cell_type": "markdown",
   "metadata": {},
   "source": [
    "# Logistic Regression"
   ]
  },
  {
   "cell_type": "code",
   "execution_count": 60,
   "metadata": {},
   "outputs": [
    {
     "name": "stdout",
     "output_type": "stream",
     "text": [
      "Jaccard_score_LogRegression:  0.4959730225248821\n",
      "F1_score_LogRegression:  0.6994792759112529\n",
      "Log_Loss_score:  0.5418751339355719\n"
     ]
    }
   ],
   "source": [
    "from sklearn.linear_model import LogisticRegression\n",
    "\n",
    "LR = LogisticRegression(C=0.001, solver='liblinear').fit(X_train,y_train)\n",
    "yhat_final_LogRegression = LR.predict(X_test)\n",
    "yhat_prob_LogRegression = LR.predict_proba(X_test)\n",
    "\n",
    "from sklearn.metrics import f1_score,jaccard_score,log_loss\n",
    "\n",
    "jaccard_score_LogRegression=jaccard_score(y_test, yhat_final_LogRegression,pos_label=1)\n",
    "f1_score_LogRegression=f1_score(y_test, yhat_final_LogRegression, average='weighted')\n",
    "log_loss=log_loss(y_test, yhat_prob_LogRegression)\n",
    "\n",
    "print(\"Jaccard_score_LogRegression: \", jaccard_score_LogRegression)\n",
    "print(\"F1_score_LogRegression: \",f1_score_LogRegression)\n",
    "print(\"Log_Loss_score: \",log_loss)"
   ]
  },
  {
   "cell_type": "code",
   "execution_count": 61,
   "metadata": {
    "scrolled": true
   },
   "outputs": [
    {
     "name": "stdout",
     "output_type": "stream",
     "text": [
      "              precision    recall  f1-score   support\n",
      "\n",
      "           1       0.76      0.59      0.66     25657\n",
      "           2       0.67      0.81      0.74     26244\n",
      "\n",
      "    accuracy                           0.70     51901\n",
      "   macro avg       0.71      0.70      0.70     51901\n",
      "weighted avg       0.71      0.70      0.70     51901\n",
      "\n"
     ]
    }
   ],
   "source": [
    "from sklearn.metrics import classification_report\n",
    "print (classification_report(y_test, yhat_final_LogRegression))"
   ]
  },
  {
   "cell_type": "markdown",
   "metadata": {},
   "source": [
    "# K Nearest Neighbor(KNN)"
   ]
  },
  {
   "cell_type": "code",
   "execution_count": 62,
   "metadata": {},
   "outputs": [
    {
     "data": {
      "text/plain": [
       "'Ks = 10\\nmean_acc = np.zeros((Ks-1))\\nstd_acc = np.zeros((Ks-1))\\nfor n in range(1,Ks):\\n    #Train Model and Predict  \\n    neigh = KNeighborsClassifier(n_neighbors = n).fit(X_train,y_train)\\n    yhat=neigh.predict(X_test)\\n    mean_acc[n-1] = metrics.accuracy_score(y_test, yhat)\\n    \\n    std_acc[n-1]=np.std(yhat==y_test)/np.sqrt(yhat.shape[0])\\n\\nmean_acc'"
      ]
     },
     "execution_count": 62,
     "metadata": {},
     "output_type": "execute_result"
    }
   ],
   "source": [
    "'''Ks = 10\n",
    "mean_acc = np.zeros((Ks-1))\n",
    "std_acc = np.zeros((Ks-1))\n",
    "for n in range(1,Ks):\n",
    "    #Train Model and Predict  \n",
    "    neigh = KNeighborsClassifier(n_neighbors = n).fit(X_train,y_train)\n",
    "    yhat=neigh.predict(X_test)\n",
    "    mean_acc[n-1] = metrics.accuracy_score(y_test, yhat)\n",
    "    \n",
    "    std_acc[n-1]=np.std(yhat==y_test)/np.sqrt(yhat.shape[0])\n",
    "\n",
    "mean_acc'''"
   ]
  },
  {
   "cell_type": "code",
   "execution_count": 63,
   "metadata": {},
   "outputs": [
    {
     "data": {
      "text/plain": [
       "\"plt.plot(range(1,Ks),mean_acc,'g')\\nplt.fill_between(range(1,Ks),mean_acc - 1 * std_acc,mean_acc + 1 * std_acc, alpha=0.10)\\nplt.legend(('Accuracy ', '+/- 3xstd'))\\nplt.ylabel('Accuracy ')\\nplt.xlabel('Number of Neighbors (K)')\\nplt.tight_layout()\\nplt.show()\""
      ]
     },
     "execution_count": 63,
     "metadata": {},
     "output_type": "execute_result"
    }
   ],
   "source": [
    "'''plt.plot(range(1,Ks),mean_acc,'g')\n",
    "plt.fill_between(range(1,Ks),mean_acc - 1 * std_acc,mean_acc + 1 * std_acc, alpha=0.10)\n",
    "plt.legend(('Accuracy ', '+/- 3xstd'))\n",
    "plt.ylabel('Accuracy ')\n",
    "plt.xlabel('Number of Neighbors (K)')\n",
    "plt.tight_layout()\n",
    "plt.show()'''"
   ]
  },
  {
   "cell_type": "code",
   "execution_count": 64,
   "metadata": {},
   "outputs": [
    {
     "data": {
      "text/plain": [
       "'print( \"The best accuracy was with\", mean_acc.max(), \"with k=\", mean_acc.argmax()+1)'"
      ]
     },
     "execution_count": 64,
     "metadata": {},
     "output_type": "execute_result"
    }
   ],
   "source": [
    "'''print( \"The best accuracy was with\", mean_acc.max(), \"with k=\", mean_acc.argmax()+1)'''''"
   ]
  },
  {
   "cell_type": "code",
   "execution_count": 65,
   "metadata": {},
   "outputs": [
    {
     "data": {
      "text/plain": [
       "'k = 7\\n#Train Model and Predict  \\nneigh_final = KNeighborsClassifier(n_neighbors = k).fit(X_train,y_train)\\nyhat_final = neigh_final.predict(X_test)\\nfrom sklearn.metrics import jaccard_score,f1_score\\n\\njaccard_score_KNN=jaccard_score(y_test, yhat_final,pos_label=\\'PAIDOFF\\')\\nf1_score_KNN=f1_score(y_test, yhat_final, average=\\'weighted\\')\\n\\nprint(\"Jaccard_score_KNN: \", jaccard_score_KNN)\\nprint(\"F1_score_KNN: \",f1_score_KNN)'"
      ]
     },
     "execution_count": 65,
     "metadata": {},
     "output_type": "execute_result"
    }
   ],
   "source": [
    "'''k = 7\n",
    "#Train Model and Predict  \n",
    "neigh_final = KNeighborsClassifier(n_neighbors = k).fit(X_train,y_train)\n",
    "yhat_final = neigh_final.predict(X_test)\n",
    "from sklearn.metrics import jaccard_score,f1_score\n",
    "\n",
    "jaccard_score_KNN=jaccard_score(y_test, yhat_final,pos_label='PAIDOFF')\n",
    "f1_score_KNN=f1_score(y_test, yhat_final, average='weighted')\n",
    "\n",
    "print(\"Jaccard_score_KNN: \", jaccard_score_KNN)\n",
    "print(\"F1_score_KNN: \",f1_score_KNN)'''"
   ]
  },
  {
   "cell_type": "markdown",
   "metadata": {},
   "source": [
    "# Decision Tree"
   ]
  },
  {
   "cell_type": "code",
   "execution_count": 66,
   "metadata": {},
   "outputs": [
    {
     "data": {
      "text/plain": [
       "'# Found max_depth=6 give us a better score.\\nfrom sklearn.tree import DecisionTreeClassifier\\nLoanTree = DecisionTreeClassifier(criterion=\"entropy\", max_depth = 6)\\nLoanTree.fit(X_train,y_train)\\nyhat_final_DecisionTree = LoanTree.predict(X_test)\\n\\nfrom sklearn.metrics import jaccard_score, f1_score\\n\\njaccard_score_DecisionTree=jaccard_score(y_test, yhat_final_DecisionTree,pos_label=\\'PAIDOFF\\')\\nf1_score_DecisionTree=f1_score(y_test, yhat_final_DecisionTree, average=\\'weighted\\')\\n\\nprint(\"Jaccard_score_DecisionTree: \", jaccard_score_DecisionTree)\\nprint(\"F1_score_DecisionTree: \",f1_score_DecisionTree)'"
      ]
     },
     "execution_count": 66,
     "metadata": {},
     "output_type": "execute_result"
    }
   ],
   "source": [
    "'''# Found max_depth=6 give us a better score.\n",
    "from sklearn.tree import DecisionTreeClassifier\n",
    "LoanTree = DecisionTreeClassifier(criterion=\"entropy\", max_depth = 6)\n",
    "LoanTree.fit(X_train,y_train)\n",
    "yhat_final_DecisionTree = LoanTree.predict(X_test)\n",
    "\n",
    "from sklearn.metrics import jaccard_score, f1_score\n",
    "\n",
    "jaccard_score_DecisionTree=jaccard_score(y_test, yhat_final_DecisionTree,pos_label='PAIDOFF')\n",
    "f1_score_DecisionTree=f1_score(y_test, yhat_final_DecisionTree, average='weighted')\n",
    "\n",
    "print(\"Jaccard_score_DecisionTree: \", jaccard_score_DecisionTree)\n",
    "print(\"F1_score_DecisionTree: \",f1_score_DecisionTree)'''"
   ]
  },
  {
   "cell_type": "markdown",
   "metadata": {},
   "source": [
    "# Support Vector Machine"
   ]
  },
  {
   "cell_type": "code",
   "execution_count": 67,
   "metadata": {},
   "outputs": [
    {
     "data": {
      "text/plain": [
       "'from sklearn import svm\\nclf = svm.SVC(kernel=\\'rbf\\')\\nclf.fit(X_train, y_train)\\nyhat_final_SVM = clf.predict(X_test)\\n\\nfrom sklearn.metrics import f1_score, jaccard_score\\n\\njaccard_score_SVM=jaccard_score(y_test, yhat_final_SVM,pos_label=\\'PAIDOFF\\')\\nf1_score_SVM=f1_score(y_test, yhat_final_SVM, average=\\'weighted\\')\\n\\nprint(\"Jaccard_score_SVM: \", jaccard_score_SVM)\\nprint(\"F1_score_SVM: \",f1_score_SVM)'"
      ]
     },
     "execution_count": 67,
     "metadata": {},
     "output_type": "execute_result"
    }
   ],
   "source": [
    "'''from sklearn import svm\n",
    "clf = svm.SVC(kernel='rbf')\n",
    "clf.fit(X_train, y_train)\n",
    "yhat_final_SVM = clf.predict(X_test)\n",
    "\n",
    "from sklearn.metrics import f1_score, jaccard_score\n",
    "\n",
    "jaccard_score_SVM=jaccard_score(y_test, yhat_final_SVM,pos_label='PAIDOFF')\n",
    "f1_score_SVM=f1_score(y_test, yhat_final_SVM, average='weighted')\n",
    "\n",
    "print(\"Jaccard_score_SVM: \", jaccard_score_SVM)\n",
    "print(\"F1_score_SVM: \",f1_score_SVM)'''"
   ]
  },
  {
   "cell_type": "markdown",
   "metadata": {},
   "source": [
    "## Analysis <a name=\"analysis\"></a>"
   ]
  },
  {
   "cell_type": "markdown",
   "metadata": {},
   "source": [
    "We will see that our model works with a Score of 70% and it is very good because we have balanced the data so that we do not have a more biased result. You could avoid some more columns in our features but these variants are already to the taste of the modeler.\n",
    "\n",
    "Make it clear that in order to have this result we have done exhaustive cleaning processes, such as removing redundant information and using those cases where it has a concentration of information on certain variables."
   ]
  },
  {
   "cell_type": "code",
   "execution_count": 68,
   "metadata": {},
   "outputs": [
    {
     "data": {
      "text/html": [
       "<div>\n",
       "<style scoped>\n",
       "    .dataframe tbody tr th:only-of-type {\n",
       "        vertical-align: middle;\n",
       "    }\n",
       "\n",
       "    .dataframe tbody tr th {\n",
       "        vertical-align: top;\n",
       "    }\n",
       "\n",
       "    .dataframe thead th {\n",
       "        text-align: right;\n",
       "    }\n",
       "</style>\n",
       "<table border=\"1\" class=\"dataframe\">\n",
       "  <thead>\n",
       "    <tr style=\"text-align: right;\">\n",
       "      <th></th>\n",
       "      <th>Algorithm</th>\n",
       "      <th>Jaccard</th>\n",
       "      <th>F1 Score</th>\n",
       "      <th>Logloss</th>\n",
       "    </tr>\n",
       "  </thead>\n",
       "  <tbody>\n",
       "    <tr>\n",
       "      <th>0</th>\n",
       "      <td>LogisticRegression</td>\n",
       "      <td>0.495973</td>\n",
       "      <td>0.699479</td>\n",
       "      <td>0.541875</td>\n",
       "    </tr>\n",
       "  </tbody>\n",
       "</table>\n",
       "</div>"
      ],
      "text/plain": [
       "            Algorithm   Jaccard  F1 Score   Logloss\n",
       "0  LogisticRegression  0.495973  0.699479  0.541875"
      ]
     },
     "execution_count": 68,
     "metadata": {},
     "output_type": "execute_result"
    }
   ],
   "source": [
    "'''Columns=['Algorithm','Jaccard','F1 Score','Logloss']\n",
    "\n",
    "Rows=[['KNN',jaccard_score_KNN,f1_score_KNN,None],\n",
    "      ['Decision Tree',jaccard_score_DecisionTree,f1_score_DecisionTree,None],\n",
    "      ['SVM',jaccard_score_SVM,f1_score_SVM,None],\n",
    "      ['LogisticRegression',jaccard_score_LogRegression,f1_score_LogRegression,log_loss]]\n",
    "report=pd.DataFrame(Rows)\n",
    "report.columns=Columns\n",
    "report.head()'''\n",
    "\n",
    "Columns=['Algorithm','Jaccard','F1 Score','Logloss']\n",
    "\n",
    "Rows=[['LogisticRegression',jaccard_score_LogRegression,f1_score_LogRegression,log_loss]]\n",
    "report=pd.DataFrame(Rows)\n",
    "report.columns=Columns\n",
    "report.head()"
   ]
  },
  {
   "cell_type": "markdown",
   "metadata": {},
   "source": [
    "## Results and Discussion <a name=\"results\"></a>"
   ]
  },
  {
   "cell_type": "markdown",
   "metadata": {},
   "source": [
    "The results show us to have a precision of 0.71 and 0.70 of approximation. Clearly with other models such as KNN, SVM or Decission Tree we would have a little better results but to be a binary labeling issue we can stick with Logistic Regression.\n",
    "\n",
    "You have to see that like other cases the day where accidents occur was not fundamental, but rather the time where it occurred, here we can see a case where the variable DAYOFWEEK can be omitted in our model.\n",
    "\n",
    "Another case may be not to remove the fatality code from the collision, but the concentration would have to be analyzed for each type of fatality.\n",
    "\n",
    "Finally, make it clear that this is an alternative model where we try to put into practice all the knowledge acquired in the course but not be a minuscule work to small details and adjustments."
   ]
  },
  {
   "cell_type": "code",
   "execution_count": null,
   "metadata": {},
   "outputs": [],
   "source": []
  }
 ],
 "metadata": {
  "kernelspec": {
   "display_name": "Python 3",
   "language": "python",
   "name": "python3"
  },
  "language_info": {
   "codemirror_mode": {
    "name": "ipython",
    "version": 3
   },
   "file_extension": ".py",
   "mimetype": "text/x-python",
   "name": "python",
   "nbconvert_exporter": "python",
   "pygments_lexer": "ipython3",
   "version": "3.7.1"
  }
 },
 "nbformat": 4,
 "nbformat_minor": 4
}
